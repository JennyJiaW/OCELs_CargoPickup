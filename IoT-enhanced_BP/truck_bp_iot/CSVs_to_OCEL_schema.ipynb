{
 "cells": [
  {
   "cell_type": "code",
   "execution_count": 1,
   "id": "70a03f05",
   "metadata": {},
   "outputs": [],
   "source": [
    "import pandas as pd"
   ]
  },
  {
   "cell_type": "markdown",
   "id": "fad94e47",
   "metadata": {},
   "source": [
    "#### Event: AssignTruck"
   ]
  },
  {
   "cell_type": "code",
   "execution_count": 2,
   "id": "10509fc9",
   "metadata": {},
   "outputs": [],
   "source": [
    "event1_df = pd.read_csv('event_AssignTrucks.csv')\n",
    "event1_df = event1_df['ocel_id;ocel_time'].str.split(';', expand=True)\n",
    "event1_df.columns = ['ocel_id', 'ocel_time']"
   ]
  },
  {
   "cell_type": "code",
   "execution_count": 3,
   "id": "8609e10e",
   "metadata": {},
   "outputs": [
    {
     "data": {
      "text/html": [
       "<div>\n",
       "<style scoped>\n",
       "    .dataframe tbody tr th:only-of-type {\n",
       "        vertical-align: middle;\n",
       "    }\n",
       "\n",
       "    .dataframe tbody tr th {\n",
       "        vertical-align: top;\n",
       "    }\n",
       "\n",
       "    .dataframe thead th {\n",
       "        text-align: right;\n",
       "    }\n",
       "</style>\n",
       "<table border=\"1\" class=\"dataframe\">\n",
       "  <thead>\n",
       "    <tr style=\"text-align: right;\">\n",
       "      <th></th>\n",
       "      <th>ocel_id</th>\n",
       "      <th>ocel_time</th>\n",
       "    </tr>\n",
       "  </thead>\n",
       "  <tbody>\n",
       "    <tr>\n",
       "      <th>0</th>\n",
       "      <td>assign_trs_Pcp9</td>\n",
       "      <td>2024-05-01 10:19:54</td>\n",
       "    </tr>\n",
       "    <tr>\n",
       "      <th>1</th>\n",
       "      <td>assign_trs_Pcp9</td>\n",
       "      <td>2024-05-01 10:25:53</td>\n",
       "    </tr>\n",
       "    <tr>\n",
       "      <th>2</th>\n",
       "      <td>assign_trs_Pcp9</td>\n",
       "      <td>2024-05-01 10:26:40</td>\n",
       "    </tr>\n",
       "    <tr>\n",
       "      <th>3</th>\n",
       "      <td>assign_trs_Pcp9</td>\n",
       "      <td>2024-05-01 10:32:05</td>\n",
       "    </tr>\n",
       "    <tr>\n",
       "      <th>4</th>\n",
       "      <td>assign_trs_Pcp6</td>\n",
       "      <td>2024-05-01 10:32:08</td>\n",
       "    </tr>\n",
       "  </tbody>\n",
       "</table>\n",
       "</div>"
      ],
      "text/plain": [
       "           ocel_id            ocel_time\n",
       "0  assign_trs_Pcp9  2024-05-01 10:19:54\n",
       "1  assign_trs_Pcp9  2024-05-01 10:25:53\n",
       "2  assign_trs_Pcp9  2024-05-01 10:26:40\n",
       "3  assign_trs_Pcp9  2024-05-01 10:32:05\n",
       "4  assign_trs_Pcp6  2024-05-01 10:32:08"
      ]
     },
     "execution_count": 3,
     "metadata": {},
     "output_type": "execute_result"
    }
   ],
   "source": [
    "event1_df.head()"
   ]
  },
  {
   "cell_type": "code",
   "execution_count": 4,
   "id": "96c8cd72",
   "metadata": {},
   "outputs": [
    {
     "data": {
      "text/plain": [
       "491"
      ]
     },
     "execution_count": 4,
     "metadata": {},
     "output_type": "execute_result"
    }
   ],
   "source": [
    "len(event1_df)"
   ]
  },
  {
   "cell_type": "code",
   "execution_count": 5,
   "id": "381ec6bd",
   "metadata": {},
   "outputs": [
    {
     "data": {
      "text/plain": [
       "491"
      ]
     },
     "execution_count": 5,
     "metadata": {},
     "output_type": "execute_result"
    }
   ],
   "source": [
    "event1_df2 = event1_df.drop_duplicates()\n",
    "len(event1_df2)"
   ]
  },
  {
   "cell_type": "markdown",
   "id": "c5827eb9",
   "metadata": {},
   "source": [
    "#### Event: EvaluateTruckExit"
   ]
  },
  {
   "cell_type": "code",
   "execution_count": 6,
   "id": "dc5229d7",
   "metadata": {},
   "outputs": [
    {
     "data": {
      "text/plain": [
       "191"
      ]
     },
     "execution_count": 6,
     "metadata": {},
     "output_type": "execute_result"
    }
   ],
   "source": [
    "event2_df = pd.read_csv('event_EvaluateTruckExit.csv')\n",
    "event2_df = event2_df['ocel_id;ocel_time'].str.split(';', expand=True)\n",
    "event2_df.columns = ['ocel_id', 'ocel_time']\n",
    "len(event2_df)"
   ]
  },
  {
   "cell_type": "code",
   "execution_count": 7,
   "id": "b2564fef",
   "metadata": {},
   "outputs": [
    {
     "data": {
      "text/plain": [
       "191"
      ]
     },
     "execution_count": 7,
     "metadata": {},
     "output_type": "execute_result"
    }
   ],
   "source": [
    "event2_df2 = event2_df.drop_duplicates()\n",
    "len(event2_df2)"
   ]
  },
  {
   "cell_type": "markdown",
   "id": "f0464742",
   "metadata": {},
   "source": [
    "#### Event: InputTallySheet"
   ]
  },
  {
   "cell_type": "code",
   "execution_count": 8,
   "id": "73e83e27",
   "metadata": {},
   "outputs": [
    {
     "data": {
      "text/plain": [
       "191"
      ]
     },
     "execution_count": 8,
     "metadata": {},
     "output_type": "execute_result"
    }
   ],
   "source": [
    "event3_df = pd.read_csv('event_InputTallySheet.csv')\n",
    "event3_df = event3_df['ocel_id;ocel_time'].str.split(';', expand=True)\n",
    "event3_df.columns = ['ocel_id', 'ocel_time']\n",
    "len(event3_df)"
   ]
  },
  {
   "cell_type": "code",
   "execution_count": 9,
   "id": "6108e30b",
   "metadata": {},
   "outputs": [
    {
     "data": {
      "text/plain": [
       "191"
      ]
     },
     "execution_count": 9,
     "metadata": {},
     "output_type": "execute_result"
    }
   ],
   "source": [
    "event3_df2 = event3_df.drop_duplicates()\n",
    "len(event3_df2)"
   ]
  },
  {
   "cell_type": "markdown",
   "id": "56e650aa",
   "metadata": {},
   "source": [
    "#### Event: LoadTruck"
   ]
  },
  {
   "cell_type": "code",
   "execution_count": 10,
   "id": "98b2d1da",
   "metadata": {},
   "outputs": [
    {
     "data": {
      "text/plain": [
       "191"
      ]
     },
     "execution_count": 10,
     "metadata": {},
     "output_type": "execute_result"
    }
   ],
   "source": [
    "event4_df = pd.read_csv('event_LoadTruck.csv')\n",
    "event4_df = event4_df['ocel_id;ocel_time'].str.split(';', expand=True)\n",
    "event4_df.columns = ['ocel_id', 'ocel_time']\n",
    "len(event4_df)"
   ]
  },
  {
   "cell_type": "code",
   "execution_count": 11,
   "id": "1d8442cf",
   "metadata": {},
   "outputs": [
    {
     "data": {
      "text/plain": [
       "191"
      ]
     },
     "execution_count": 11,
     "metadata": {},
     "output_type": "execute_result"
    }
   ],
   "source": [
    "event4_df2 = event4_df.drop_duplicates()\n",
    "len(event4_df2)"
   ]
  },
  {
   "cell_type": "markdown",
   "id": "2e1461fb",
   "metadata": {},
   "source": [
    "#### Event: PrintWeighingTicket"
   ]
  },
  {
   "cell_type": "code",
   "execution_count": 12,
   "id": "6f34425b",
   "metadata": {},
   "outputs": [
    {
     "data": {
      "text/plain": [
       "191"
      ]
     },
     "execution_count": 12,
     "metadata": {},
     "output_type": "execute_result"
    }
   ],
   "source": [
    "event5_df = pd.read_csv('event_PrintWeighingTicket.csv')\n",
    "event5_df = event5_df['ocel_id;ocel_time'].str.split(';', expand=True)\n",
    "event5_df.columns = ['ocel_id', 'ocel_time']\n",
    "len(event5_df)"
   ]
  },
  {
   "cell_type": "code",
   "execution_count": 13,
   "id": "99013e60",
   "metadata": {},
   "outputs": [
    {
     "data": {
      "text/plain": [
       "191"
      ]
     },
     "execution_count": 13,
     "metadata": {},
     "output_type": "execute_result"
    }
   ],
   "source": [
    "event5_df2 = event5_df.drop_duplicates()\n",
    "len(event5_df2)"
   ]
  },
  {
   "cell_type": "markdown",
   "id": "84250ec9",
   "metadata": {},
   "source": [
    "#### Event: WeighEmptyTruck"
   ]
  },
  {
   "cell_type": "code",
   "execution_count": 14,
   "id": "b8c3a59e",
   "metadata": {},
   "outputs": [
    {
     "data": {
      "text/plain": [
       "491"
      ]
     },
     "execution_count": 14,
     "metadata": {},
     "output_type": "execute_result"
    }
   ],
   "source": [
    "event6_df = pd.read_csv('event_WeighEmptyTruck.csv')\n",
    "event6_df = event6_df['ocel_id;ocel_time'].str.split(';', expand=True)\n",
    "event6_df.columns = ['ocel_id', 'ocel_time']\n",
    "len(event6_df)"
   ]
  },
  {
   "cell_type": "code",
   "execution_count": 15,
   "id": "c46d49c9",
   "metadata": {},
   "outputs": [
    {
     "data": {
      "text/plain": [
       "491"
      ]
     },
     "execution_count": 15,
     "metadata": {},
     "output_type": "execute_result"
    }
   ],
   "source": [
    "event6_df2 = event6_df.drop_duplicates()\n",
    "len(event6_df2)"
   ]
  },
  {
   "cell_type": "markdown",
   "id": "534384a3",
   "metadata": {},
   "source": [
    "#### Event: WeighLoadedTruck"
   ]
  },
  {
   "cell_type": "code",
   "execution_count": 16,
   "id": "e87d3032",
   "metadata": {},
   "outputs": [
    {
     "data": {
      "text/plain": [
       "191"
      ]
     },
     "execution_count": 16,
     "metadata": {},
     "output_type": "execute_result"
    }
   ],
   "source": [
    "event7_df = pd.read_csv('event_WeighLoadedTruck.csv')\n",
    "event7_df = event7_df['ocel_id;ocel_time'].str.split(';', expand=True)\n",
    "event7_df.columns = ['ocel_id', 'ocel_time']\n",
    "len(event7_df)"
   ]
  },
  {
   "cell_type": "code",
   "execution_count": 17,
   "id": "58d63e79",
   "metadata": {},
   "outputs": [
    {
     "data": {
      "text/plain": [
       "191"
      ]
     },
     "execution_count": 17,
     "metadata": {},
     "output_type": "execute_result"
    }
   ],
   "source": [
    "event7_df2 = event7_df.drop_duplicates()\n",
    "len(event7_df2)"
   ]
  },
  {
   "cell_type": "markdown",
   "id": "f4b31b61",
   "metadata": {},
   "source": [
    "#### Event: LodgePickupPlan"
   ]
  },
  {
   "cell_type": "code",
   "execution_count": 18,
   "id": "c373fe5b",
   "metadata": {},
   "outputs": [
    {
     "data": {
      "text/plain": [
       "10"
      ]
     },
     "execution_count": 18,
     "metadata": {},
     "output_type": "execute_result"
    }
   ],
   "source": [
    "event8_df = pd.read_csv('event_LodgePickupPlan.csv')\n",
    "event8_df = event8_df['ocel_id;ocel_time'].str.split(';', expand=True)\n",
    "event8_df.columns = ['ocel_id', 'ocel_time']\n",
    "len(event8_df)"
   ]
  },
  {
   "cell_type": "code",
   "execution_count": 19,
   "id": "59ed3741",
   "metadata": {},
   "outputs": [
    {
     "data": {
      "text/plain": [
       "10"
      ]
     },
     "execution_count": 19,
     "metadata": {},
     "output_type": "execute_result"
    }
   ],
   "source": [
    "event8_df2 = event8_df.drop_duplicates()\n",
    "len(event8_df2)"
   ]
  },
  {
   "cell_type": "markdown",
   "id": "1e479f91",
   "metadata": {},
   "source": [
    "#### Event: EnterPort"
   ]
  },
  {
   "cell_type": "code",
   "execution_count": 20,
   "id": "e81d2be5",
   "metadata": {},
   "outputs": [
    {
     "data": {
      "text/plain": [
       "491"
      ]
     },
     "execution_count": 20,
     "metadata": {},
     "output_type": "execute_result"
    }
   ],
   "source": [
    "event9_df = pd.read_csv('event_Enterport.csv')\n",
    "event9_df = event9_df['ocel_id;ocel_time'].str.split(';', expand=True)\n",
    "event9_df.columns = ['ocel_id', 'ocel_time']\n",
    "len(event9_df)"
   ]
  },
  {
   "cell_type": "code",
   "execution_count": 21,
   "id": "5dff560b",
   "metadata": {},
   "outputs": [
    {
     "data": {
      "text/plain": [
       "491"
      ]
     },
     "execution_count": 21,
     "metadata": {},
     "output_type": "execute_result"
    }
   ],
   "source": [
    "event9_df2 = event9_df.drop_duplicates()\n",
    "len(event9_df2)"
   ]
  },
  {
   "cell_type": "markdown",
   "id": "6b86dc5a",
   "metadata": {},
   "source": [
    "#### Event: CheckEmptyTruckWeightAbnormality"
   ]
  },
  {
   "cell_type": "code",
   "execution_count": 22,
   "id": "7c17d89c",
   "metadata": {},
   "outputs": [
    {
     "data": {
      "text/plain": [
       "491"
      ]
     },
     "execution_count": 22,
     "metadata": {},
     "output_type": "execute_result"
    }
   ],
   "source": [
    "event10_df = pd.read_csv('event_CheckEmptyTruckWeightAbnormality.csv')\n",
    "event10_df = event10_df['ocel_id;ocel_time'].str.split(';', expand=True)\n",
    "event10_df.columns = ['ocel_id', 'ocel_time']\n",
    "len(event10_df)"
   ]
  },
  {
   "cell_type": "code",
   "execution_count": 23,
   "id": "8524593b",
   "metadata": {
    "scrolled": true
   },
   "outputs": [
    {
     "data": {
      "text/plain": [
       "491"
      ]
     },
     "execution_count": 23,
     "metadata": {},
     "output_type": "execute_result"
    }
   ],
   "source": [
    "event10_df2 = event10_df.drop_duplicates()\n",
    "len(event10_df2)"
   ]
  },
  {
   "cell_type": "markdown",
   "id": "a402aba3",
   "metadata": {},
   "source": [
    "#### Event: FailtoWeigh"
   ]
  },
  {
   "cell_type": "code",
   "execution_count": 24,
   "id": "5290d47e",
   "metadata": {},
   "outputs": [
    {
     "data": {
      "text/plain": [
       "300"
      ]
     },
     "execution_count": 24,
     "metadata": {},
     "output_type": "execute_result"
    }
   ],
   "source": [
    "event11_df = pd.read_csv('event_FailtoWeigh.csv')\n",
    "event11_df = event11_df['ocel_id;ocel_time'].str.split(';', expand=True)\n",
    "event11_df.columns = ['ocel_id', 'ocel_time']\n",
    "len(event11_df)"
   ]
  },
  {
   "cell_type": "code",
   "execution_count": 25,
   "id": "3de4e751",
   "metadata": {},
   "outputs": [
    {
     "data": {
      "text/plain": [
       "300"
      ]
     },
     "execution_count": 25,
     "metadata": {},
     "output_type": "execute_result"
    }
   ],
   "source": [
    "event11_df2 = event11_df.drop_duplicates()\n",
    "len(event11_df2)"
   ]
  },
  {
   "cell_type": "markdown",
   "id": "af931f29",
   "metadata": {},
   "source": [
    "#### Event: ArriveatSilo"
   ]
  },
  {
   "cell_type": "code",
   "execution_count": 26,
   "id": "36721c02",
   "metadata": {},
   "outputs": [
    {
     "data": {
      "text/plain": [
       "191"
      ]
     },
     "execution_count": 26,
     "metadata": {},
     "output_type": "execute_result"
    }
   ],
   "source": [
    "event12_df = pd.read_csv('event_ArriveatSilo.csv')\n",
    "event12_df = event12_df['ocel_id;ocel_time'].str.split(';', expand=True)\n",
    "event12_df.columns = ['ocel_id', 'ocel_time']\n",
    "len(event12_df)"
   ]
  },
  {
   "cell_type": "code",
   "execution_count": 27,
   "id": "4e33aff7",
   "metadata": {},
   "outputs": [
    {
     "data": {
      "text/plain": [
       "191"
      ]
     },
     "execution_count": 27,
     "metadata": {},
     "output_type": "execute_result"
    }
   ],
   "source": [
    "event12_df2 = event12_df.drop_duplicates()\n",
    "len(event12_df2)"
   ]
  },
  {
   "cell_type": "markdown",
   "id": "7da647a3",
   "metadata": {},
   "source": [
    "#### Event: DetermineContinuanceofPickup"
   ]
  },
  {
   "cell_type": "code",
   "execution_count": 28,
   "id": "c8e45f14",
   "metadata": {},
   "outputs": [
    {
     "data": {
      "text/plain": [
       "191"
      ]
     },
     "execution_count": 28,
     "metadata": {},
     "output_type": "execute_result"
    }
   ],
   "source": [
    "event13_df = pd.read_csv('event_DetermineContinuanceofPickup.csv')\n",
    "event13_df = event13_df['ocel_id;ocel_time'].str.split(';', expand=True)\n",
    "event13_df.columns = ['ocel_id', 'ocel_time']\n",
    "len(event13_df)"
   ]
  },
  {
   "cell_type": "code",
   "execution_count": 29,
   "id": "7c5deea1",
   "metadata": {},
   "outputs": [
    {
     "data": {
      "text/plain": [
       "191"
      ]
     },
     "execution_count": 29,
     "metadata": {},
     "output_type": "execute_result"
    }
   ],
   "source": [
    "event13_df2 = event13_df.drop_duplicates()\n",
    "len(event13_df2)"
   ]
  },
  {
   "cell_type": "markdown",
   "id": "ff317592",
   "metadata": {},
   "source": [
    "##### Concatenate all event tables"
   ]
  },
  {
   "cell_type": "code",
   "execution_count": 30,
   "id": "ea443d08",
   "metadata": {},
   "outputs": [],
   "source": [
    "combined_events = pd.concat([event1_df2, event2_df2, event3_df2, event4_df2, event5_df2, event6_df2, event7_df2, event8_df2, event9_df2, event10_df2, event11_df2, event12_df2, event13_df2])"
   ]
  },
  {
   "cell_type": "code",
   "execution_count": 31,
   "id": "f840eb2f",
   "metadata": {},
   "outputs": [
    {
     "data": {
      "text/plain": [
       "3611"
      ]
     },
     "execution_count": 31,
     "metadata": {},
     "output_type": "execute_result"
    }
   ],
   "source": [
    "len(combined_events)"
   ]
  },
  {
   "cell_type": "code",
   "execution_count": 32,
   "id": "c43deadc",
   "metadata": {},
   "outputs": [
    {
     "data": {
      "text/plain": [
       "3611"
      ]
     },
     "execution_count": 32,
     "metadata": {},
     "output_type": "execute_result"
    }
   ],
   "source": [
    "sorted_events = combined_events.sort_values(by='ocel_time')\n",
    "len(sorted_events)"
   ]
  },
  {
   "cell_type": "code",
   "execution_count": 33,
   "id": "af93ab18",
   "metadata": {},
   "outputs": [
    {
     "data": {
      "text/html": [
       "<div>\n",
       "<style scoped>\n",
       "    .dataframe tbody tr th:only-of-type {\n",
       "        vertical-align: middle;\n",
       "    }\n",
       "\n",
       "    .dataframe tbody tr th {\n",
       "        vertical-align: top;\n",
       "    }\n",
       "\n",
       "    .dataframe thead th {\n",
       "        text-align: right;\n",
       "    }\n",
       "</style>\n",
       "<table border=\"1\" class=\"dataframe\">\n",
       "  <thead>\n",
       "    <tr style=\"text-align: right;\">\n",
       "      <th></th>\n",
       "      <th>ocel_id</th>\n",
       "      <th>ocel_time</th>\n",
       "    </tr>\n",
       "  </thead>\n",
       "  <tbody>\n",
       "    <tr>\n",
       "      <th>0</th>\n",
       "      <td>Lodge_Pcp3</td>\n",
       "      <td>2024-04-29 08:12:32</td>\n",
       "    </tr>\n",
       "    <tr>\n",
       "      <th>1</th>\n",
       "      <td>Lodge_Pcp9</td>\n",
       "      <td>2024-04-29 08:39:46</td>\n",
       "    </tr>\n",
       "    <tr>\n",
       "      <th>2</th>\n",
       "      <td>Lodge_Pcp6</td>\n",
       "      <td>2024-04-29 08:46:20</td>\n",
       "    </tr>\n",
       "    <tr>\n",
       "      <th>3</th>\n",
       "      <td>Lodge_Pcp2</td>\n",
       "      <td>2024-04-29 09:07:13</td>\n",
       "    </tr>\n",
       "    <tr>\n",
       "      <th>4</th>\n",
       "      <td>Lodge_Pcp8</td>\n",
       "      <td>2024-04-29 09:07:35</td>\n",
       "    </tr>\n",
       "  </tbody>\n",
       "</table>\n",
       "</div>"
      ],
      "text/plain": [
       "      ocel_id            ocel_time\n",
       "0  Lodge_Pcp3  2024-04-29 08:12:32\n",
       "1  Lodge_Pcp9  2024-04-29 08:39:46\n",
       "2  Lodge_Pcp6  2024-04-29 08:46:20\n",
       "3  Lodge_Pcp2  2024-04-29 09:07:13\n",
       "4  Lodge_Pcp8  2024-04-29 09:07:35"
      ]
     },
     "execution_count": 33,
     "metadata": {},
     "output_type": "execute_result"
    }
   ],
   "source": [
    "sorted_events.head()"
   ]
  },
  {
   "cell_type": "markdown",
   "id": "5f1a190d",
   "metadata": {},
   "source": [
    "#### event.csv "
   ]
  },
  {
   "cell_type": "code",
   "execution_count": 34,
   "id": "c69e5a6d",
   "metadata": {},
   "outputs": [
    {
     "name": "stdout",
     "output_type": "stream",
     "text": [
      "      ocel_id          ocel_type\n",
      "0  Lodge_Pcp3  Lodge Pickup Plan\n",
      "1  Lodge_Pcp9  Lodge Pickup Plan\n",
      "2  Lodge_Pcp6  Lodge Pickup Plan\n",
      "3  Lodge_Pcp2  Lodge Pickup Plan\n",
      "4  Lodge_Pcp8  Lodge Pickup Plan\n"
     ]
    }
   ],
   "source": [
    "event_df = pd.read_csv('event.csv')\n",
    "event_df = event_df['ocel_id;ocel_type'].str.split(';', expand=True)\n",
    "event_df.columns = ['ocel_id','ocel_type']\n",
    "print(event_df.head())"
   ]
  },
  {
   "cell_type": "code",
   "execution_count": 35,
   "id": "c7123c0a",
   "metadata": {},
   "outputs": [
    {
     "data": {
      "text/plain": [
       "3611"
      ]
     },
     "execution_count": 35,
     "metadata": {},
     "output_type": "execute_result"
    }
   ],
   "source": [
    "len(event_df)"
   ]
  },
  {
   "cell_type": "code",
   "execution_count": 36,
   "id": "7635f6ed",
   "metadata": {},
   "outputs": [],
   "source": [
    "events = pd.merge(sorted_events, event_df, on='ocel_id', how='inner')"
   ]
  },
  {
   "cell_type": "code",
   "execution_count": 37,
   "id": "854ddc63",
   "metadata": {
    "scrolled": false
   },
   "outputs": [
    {
     "data": {
      "text/plain": [
       "53931"
      ]
     },
     "execution_count": 37,
     "metadata": {},
     "output_type": "execute_result"
    }
   ],
   "source": [
    "len(events)"
   ]
  },
  {
   "cell_type": "code",
   "execution_count": 38,
   "id": "e19dbf34",
   "metadata": {},
   "outputs": [],
   "source": [
    "events_distinct = events.drop_duplicates()"
   ]
  },
  {
   "cell_type": "code",
   "execution_count": 39,
   "id": "d5f71375",
   "metadata": {},
   "outputs": [
    {
     "data": {
      "text/plain": [
       "3611"
      ]
     },
     "execution_count": 39,
     "metadata": {},
     "output_type": "execute_result"
    }
   ],
   "source": [
    "len(events_distinct)"
   ]
  },
  {
   "cell_type": "markdown",
   "id": "b1ee02a6",
   "metadata": {},
   "source": [
    "### Event table"
   ]
  },
  {
   "cell_type": "code",
   "execution_count": 40,
   "id": "b5ee6ac6",
   "metadata": {},
   "outputs": [
    {
     "name": "stderr",
     "output_type": "stream",
     "text": [
      "C:\\Users\\n9810200\\AppData\\Local\\Temp/ipykernel_90912/1745019848.py:1: SettingWithCopyWarning: \n",
      "A value is trying to be set on a copy of a slice from a DataFrame\n",
      "\n",
      "See the caveats in the documentation: https://pandas.pydata.org/pandas-docs/stable/user_guide/indexing.html#returning-a-view-versus-a-copy\n",
      "  events_distinct.rename(columns={'ocel_id': 'Event_id', 'ocel_type': 'Activity', 'ocel_time': 'Timestamp'}, inplace=True)\n"
     ]
    }
   ],
   "source": [
    "events_distinct.rename(columns={'ocel_id': 'Event_id', 'ocel_type': 'Activity', 'ocel_time': 'Timestamp'}, inplace=True)"
   ]
  },
  {
   "cell_type": "code",
   "execution_count": 41,
   "id": "1cb06472",
   "metadata": {},
   "outputs": [
    {
     "data": {
      "text/html": [
       "<div>\n",
       "<style scoped>\n",
       "    .dataframe tbody tr th:only-of-type {\n",
       "        vertical-align: middle;\n",
       "    }\n",
       "\n",
       "    .dataframe tbody tr th {\n",
       "        vertical-align: top;\n",
       "    }\n",
       "\n",
       "    .dataframe thead th {\n",
       "        text-align: right;\n",
       "    }\n",
       "</style>\n",
       "<table border=\"1\" class=\"dataframe\">\n",
       "  <thead>\n",
       "    <tr style=\"text-align: right;\">\n",
       "      <th></th>\n",
       "      <th>Event_id</th>\n",
       "      <th>Timestamp</th>\n",
       "      <th>Activity</th>\n",
       "    </tr>\n",
       "  </thead>\n",
       "  <tbody>\n",
       "    <tr>\n",
       "      <th>0</th>\n",
       "      <td>Lodge_Pcp3</td>\n",
       "      <td>2024-04-29 08:12:32</td>\n",
       "      <td>Lodge Pickup Plan</td>\n",
       "    </tr>\n",
       "    <tr>\n",
       "      <th>1</th>\n",
       "      <td>Lodge_Pcp9</td>\n",
       "      <td>2024-04-29 08:39:46</td>\n",
       "      <td>Lodge Pickup Plan</td>\n",
       "    </tr>\n",
       "    <tr>\n",
       "      <th>2</th>\n",
       "      <td>Lodge_Pcp6</td>\n",
       "      <td>2024-04-29 08:46:20</td>\n",
       "      <td>Lodge Pickup Plan</td>\n",
       "    </tr>\n",
       "    <tr>\n",
       "      <th>3</th>\n",
       "      <td>Lodge_Pcp2</td>\n",
       "      <td>2024-04-29 09:07:13</td>\n",
       "      <td>Lodge Pickup Plan</td>\n",
       "    </tr>\n",
       "    <tr>\n",
       "      <th>4</th>\n",
       "      <td>Lodge_Pcp8</td>\n",
       "      <td>2024-04-29 09:07:35</td>\n",
       "      <td>Lodge Pickup Plan</td>\n",
       "    </tr>\n",
       "  </tbody>\n",
       "</table>\n",
       "</div>"
      ],
      "text/plain": [
       "     Event_id            Timestamp           Activity\n",
       "0  Lodge_Pcp3  2024-04-29 08:12:32  Lodge Pickup Plan\n",
       "1  Lodge_Pcp9  2024-04-29 08:39:46  Lodge Pickup Plan\n",
       "2  Lodge_Pcp6  2024-04-29 08:46:20  Lodge Pickup Plan\n",
       "3  Lodge_Pcp2  2024-04-29 09:07:13  Lodge Pickup Plan\n",
       "4  Lodge_Pcp8  2024-04-29 09:07:35  Lodge Pickup Plan"
      ]
     },
     "execution_count": 41,
     "metadata": {},
     "output_type": "execute_result"
    }
   ],
   "source": [
    "events_distinct.head()"
   ]
  },
  {
   "cell_type": "code",
   "execution_count": 42,
   "id": "7398b858",
   "metadata": {},
   "outputs": [],
   "source": [
    "events_distinct.to_csv('OCEL_Events.csv', index = False)"
   ]
  },
  {
   "cell_type": "markdown",
   "id": "f8392983",
   "metadata": {},
   "source": [
    "### Event-to-Object relationships"
   ]
  },
  {
   "cell_type": "code",
   "execution_count": 43,
   "id": "516ef5d4",
   "metadata": {},
   "outputs": [],
   "source": [
    "e2o_df = pd.read_csv('event_object.csv')\n",
    "e2o_df = e2o_df['ocel_event_id;ocel_object_id;ocel_qualifier'].str.split(';', expand=True)\n",
    "e2o_df.columns = ['ocel_event_id', 'ocel_object_id', 'ocel_qualifier']\n",
    "e2o_df.rename(columns={'ocel_event_id': 'Event_id', 'ocel_object_id': 'Object_id', 'ocel_qualifier': 'E2O_qualifier'}, inplace=True)"
   ]
  },
  {
   "cell_type": "code",
   "execution_count": 44,
   "id": "e49ade84",
   "metadata": {},
   "outputs": [
    {
     "data": {
      "text/plain": [
       "3621"
      ]
     },
     "execution_count": 44,
     "metadata": {},
     "output_type": "execute_result"
    }
   ],
   "source": [
    "len(e2o_df)"
   ]
  },
  {
   "cell_type": "code",
   "execution_count": 45,
   "id": "9e02a1ee",
   "metadata": {},
   "outputs": [
    {
     "data": {
      "text/html": [
       "<div>\n",
       "<style scoped>\n",
       "    .dataframe tbody tr th:only-of-type {\n",
       "        vertical-align: middle;\n",
       "    }\n",
       "\n",
       "    .dataframe tbody tr th {\n",
       "        vertical-align: top;\n",
       "    }\n",
       "\n",
       "    .dataframe thead th {\n",
       "        text-align: right;\n",
       "    }\n",
       "</style>\n",
       "<table border=\"1\" class=\"dataframe\">\n",
       "  <thead>\n",
       "    <tr style=\"text-align: right;\">\n",
       "      <th></th>\n",
       "      <th>Event_id</th>\n",
       "      <th>Object_id</th>\n",
       "      <th>E2O_qualifier</th>\n",
       "    </tr>\n",
       "  </thead>\n",
       "  <tbody>\n",
       "    <tr>\n",
       "      <th>0</th>\n",
       "      <td>Lodge_Pcp3</td>\n",
       "      <td>Pcp3</td>\n",
       "      <td>lodged pickup plan</td>\n",
       "    </tr>\n",
       "    <tr>\n",
       "      <th>1</th>\n",
       "      <td>Lodge_Pcp3</td>\n",
       "      <td>Cr1</td>\n",
       "      <td>cargo to be picked up</td>\n",
       "    </tr>\n",
       "    <tr>\n",
       "      <th>2</th>\n",
       "      <td>Lodge_Pcp9</td>\n",
       "      <td>Pcp9</td>\n",
       "      <td>lodged pickup plan</td>\n",
       "    </tr>\n",
       "    <tr>\n",
       "      <th>3</th>\n",
       "      <td>Lodge_Pcp9</td>\n",
       "      <td>Cr14</td>\n",
       "      <td>cargo to be picked up</td>\n",
       "    </tr>\n",
       "    <tr>\n",
       "      <th>4</th>\n",
       "      <td>Lodge_Pcp6</td>\n",
       "      <td>Pcp6</td>\n",
       "      <td>lodged pickup plan</td>\n",
       "    </tr>\n",
       "    <tr>\n",
       "      <th>...</th>\n",
       "      <td>...</td>\n",
       "      <td>...</td>\n",
       "      <td>...</td>\n",
       "    </tr>\n",
       "    <tr>\n",
       "      <th>3616</th>\n",
       "      <td>input_tally_sheettr13</td>\n",
       "      <td>tr13</td>\n",
       "      <td>Tally Sheet for pickup plan</td>\n",
       "    </tr>\n",
       "    <tr>\n",
       "      <th>3617</th>\n",
       "      <td>eval_trs_exittr13_Pcp1</td>\n",
       "      <td>tr13</td>\n",
       "      <td>Exit evaluation for truck</td>\n",
       "    </tr>\n",
       "    <tr>\n",
       "      <th>3618</th>\n",
       "      <td>print_w_tickettr19</td>\n",
       "      <td>tr19</td>\n",
       "      <td>Printed weighing ticket for pickup plan</td>\n",
       "    </tr>\n",
       "    <tr>\n",
       "      <th>3619</th>\n",
       "      <td>input_tally_sheettr19</td>\n",
       "      <td>tr19</td>\n",
       "      <td>Tally Sheet for pickup plan</td>\n",
       "    </tr>\n",
       "    <tr>\n",
       "      <th>3620</th>\n",
       "      <td>eval_trs_exittr19_Pcp7</td>\n",
       "      <td>tr19</td>\n",
       "      <td>Exit evaluation for truck</td>\n",
       "    </tr>\n",
       "  </tbody>\n",
       "</table>\n",
       "<p>3621 rows × 3 columns</p>\n",
       "</div>"
      ],
      "text/plain": [
       "                    Event_id Object_id  \\\n",
       "0                 Lodge_Pcp3      Pcp3   \n",
       "1                 Lodge_Pcp3       Cr1   \n",
       "2                 Lodge_Pcp9      Pcp9   \n",
       "3                 Lodge_Pcp9      Cr14   \n",
       "4                 Lodge_Pcp6      Pcp6   \n",
       "...                      ...       ...   \n",
       "3616   input_tally_sheettr13      tr13   \n",
       "3617  eval_trs_exittr13_Pcp1      tr13   \n",
       "3618      print_w_tickettr19      tr19   \n",
       "3619   input_tally_sheettr19      tr19   \n",
       "3620  eval_trs_exittr19_Pcp7      tr19   \n",
       "\n",
       "                                E2O_qualifier  \n",
       "0                          lodged pickup plan  \n",
       "1                       cargo to be picked up  \n",
       "2                          lodged pickup plan  \n",
       "3                       cargo to be picked up  \n",
       "4                          lodged pickup plan  \n",
       "...                                       ...  \n",
       "3616              Tally Sheet for pickup plan  \n",
       "3617                Exit evaluation for truck  \n",
       "3618  Printed weighing ticket for pickup plan  \n",
       "3619              Tally Sheet for pickup plan  \n",
       "3620                Exit evaluation for truck  \n",
       "\n",
       "[3621 rows x 3 columns]"
      ]
     },
     "execution_count": 45,
     "metadata": {},
     "output_type": "execute_result"
    }
   ],
   "source": [
    "e2o_df"
   ]
  },
  {
   "cell_type": "code",
   "execution_count": 46,
   "id": "5eddba71",
   "metadata": {},
   "outputs": [],
   "source": [
    "e2o_df.to_csv('OCEL_E2O.csv', index = False)"
   ]
  },
  {
   "cell_type": "markdown",
   "id": "53f6ff36",
   "metadata": {},
   "source": [
    "### Object-to-Object relationships"
   ]
  },
  {
   "cell_type": "code",
   "execution_count": 47,
   "id": "717d6b6e",
   "metadata": {},
   "outputs": [],
   "source": [
    "o2o_df = pd.read_csv('object_object.csv')\n",
    "o2o_df = o2o_df['ocel_source_id;ocel_target_id;ocel_qualifier;ocel_time'].str.split(';', expand=True)\n",
    "o2o_df.columns = ['ocel_source_id', 'ocel_target_id', 'ocel_qualifier','ocel_time']"
   ]
  },
  {
   "cell_type": "code",
   "execution_count": 48,
   "id": "9d055ab7",
   "metadata": {},
   "outputs": [
    {
     "data": {
      "text/html": [
       "<div>\n",
       "<style scoped>\n",
       "    .dataframe tbody tr th:only-of-type {\n",
       "        vertical-align: middle;\n",
       "    }\n",
       "\n",
       "    .dataframe tbody tr th {\n",
       "        vertical-align: top;\n",
       "    }\n",
       "\n",
       "    .dataframe thead th {\n",
       "        text-align: right;\n",
       "    }\n",
       "</style>\n",
       "<table border=\"1\" class=\"dataframe\">\n",
       "  <thead>\n",
       "    <tr style=\"text-align: right;\">\n",
       "      <th></th>\n",
       "      <th>ocel_source_id</th>\n",
       "      <th>ocel_target_id</th>\n",
       "      <th>ocel_qualifier</th>\n",
       "      <th>ocel_time</th>\n",
       "    </tr>\n",
       "  </thead>\n",
       "  <tbody>\n",
       "    <tr>\n",
       "      <th>0</th>\n",
       "      <td>Pcp3</td>\n",
       "      <td>Cr1</td>\n",
       "      <td>Lodged pickup plan for cargo</td>\n",
       "      <td>2024-04-29 08:12:32</td>\n",
       "    </tr>\n",
       "    <tr>\n",
       "      <th>1</th>\n",
       "      <td>Pcp9</td>\n",
       "      <td>Cr14</td>\n",
       "      <td>Lodged pickup plan for cargo</td>\n",
       "      <td>2024-04-29 08:39:46</td>\n",
       "    </tr>\n",
       "    <tr>\n",
       "      <th>2</th>\n",
       "      <td>Pcp6</td>\n",
       "      <td>Cr17</td>\n",
       "      <td>Lodged pickup plan for cargo</td>\n",
       "      <td>2024-04-29 08:46:20</td>\n",
       "    </tr>\n",
       "    <tr>\n",
       "      <th>3</th>\n",
       "      <td>Pcp2</td>\n",
       "      <td>Cr11</td>\n",
       "      <td>Lodged pickup plan for cargo</td>\n",
       "      <td>2024-04-29 09:07:13</td>\n",
       "    </tr>\n",
       "    <tr>\n",
       "      <th>4</th>\n",
       "      <td>Pcp8</td>\n",
       "      <td>Cr4</td>\n",
       "      <td>Lodged pickup plan for cargo</td>\n",
       "      <td>2024-04-29 09:07:35</td>\n",
       "    </tr>\n",
       "    <tr>\n",
       "      <th>...</th>\n",
       "      <td>...</td>\n",
       "      <td>...</td>\n",
       "      <td>...</td>\n",
       "      <td>...</td>\n",
       "    </tr>\n",
       "    <tr>\n",
       "      <th>878</th>\n",
       "      <td>tr38</td>\n",
       "      <td>Pcp7</td>\n",
       "      <td>Dropped truck from pickup plan</td>\n",
       "      <td>2024-06-11 13:18:55</td>\n",
       "    </tr>\n",
       "    <tr>\n",
       "      <th>879</th>\n",
       "      <td>tr40</td>\n",
       "      <td>Pcp4</td>\n",
       "      <td>Dropped truck from pickup plan</td>\n",
       "      <td>2024-06-11 13:40:49</td>\n",
       "    </tr>\n",
       "    <tr>\n",
       "      <th>880</th>\n",
       "      <td>tr18</td>\n",
       "      <td>Pcp8</td>\n",
       "      <td>Dropped truck from pickup plan</td>\n",
       "      <td>2024-06-11 16:46:51</td>\n",
       "    </tr>\n",
       "    <tr>\n",
       "      <th>881</th>\n",
       "      <td>tr13</td>\n",
       "      <td>Pcp1</td>\n",
       "      <td>Dropped truck from pickup plan</td>\n",
       "      <td>2024-06-12 09:35:47</td>\n",
       "    </tr>\n",
       "    <tr>\n",
       "      <th>882</th>\n",
       "      <td>tr19</td>\n",
       "      <td>Pcp7</td>\n",
       "      <td>Dropped truck from pickup plan</td>\n",
       "      <td>2024-06-12 10:31:25</td>\n",
       "    </tr>\n",
       "  </tbody>\n",
       "</table>\n",
       "<p>883 rows × 4 columns</p>\n",
       "</div>"
      ],
      "text/plain": [
       "    ocel_source_id ocel_target_id                  ocel_qualifier  \\\n",
       "0             Pcp3            Cr1    Lodged pickup plan for cargo   \n",
       "1             Pcp9           Cr14    Lodged pickup plan for cargo   \n",
       "2             Pcp6           Cr17    Lodged pickup plan for cargo   \n",
       "3             Pcp2           Cr11    Lodged pickup plan for cargo   \n",
       "4             Pcp8            Cr4    Lodged pickup plan for cargo   \n",
       "..             ...            ...                             ...   \n",
       "878           tr38           Pcp7  Dropped truck from pickup plan   \n",
       "879           tr40           Pcp4  Dropped truck from pickup plan   \n",
       "880           tr18           Pcp8  Dropped truck from pickup plan   \n",
       "881           tr13           Pcp1  Dropped truck from pickup plan   \n",
       "882           tr19           Pcp7  Dropped truck from pickup plan   \n",
       "\n",
       "               ocel_time  \n",
       "0    2024-04-29 08:12:32  \n",
       "1    2024-04-29 08:39:46  \n",
       "2    2024-04-29 08:46:20  \n",
       "3    2024-04-29 09:07:13  \n",
       "4    2024-04-29 09:07:35  \n",
       "..                   ...  \n",
       "878  2024-06-11 13:18:55  \n",
       "879  2024-06-11 13:40:49  \n",
       "880  2024-06-11 16:46:51  \n",
       "881  2024-06-12 09:35:47  \n",
       "882  2024-06-12 10:31:25  \n",
       "\n",
       "[883 rows x 4 columns]"
      ]
     },
     "execution_count": 48,
     "metadata": {},
     "output_type": "execute_result"
    }
   ],
   "source": [
    "o2o_df"
   ]
  },
  {
   "cell_type": "code",
   "execution_count": 49,
   "id": "69f0e93d",
   "metadata": {},
   "outputs": [],
   "source": [
    "o2o_df.rename(columns={'ocel_source_id': 'Source_object_id', 'ocel_target_id': 'Target_object_id', 'ocel_qualifier': 'O2O_qualifier','ocel_time':'Timestamp'}, inplace=True)"
   ]
  },
  {
   "cell_type": "code",
   "execution_count": 50,
   "id": "214f19aa",
   "metadata": {},
   "outputs": [
    {
     "data": {
      "text/html": [
       "<div>\n",
       "<style scoped>\n",
       "    .dataframe tbody tr th:only-of-type {\n",
       "        vertical-align: middle;\n",
       "    }\n",
       "\n",
       "    .dataframe tbody tr th {\n",
       "        vertical-align: top;\n",
       "    }\n",
       "\n",
       "    .dataframe thead th {\n",
       "        text-align: right;\n",
       "    }\n",
       "</style>\n",
       "<table border=\"1\" class=\"dataframe\">\n",
       "  <thead>\n",
       "    <tr style=\"text-align: right;\">\n",
       "      <th></th>\n",
       "      <th>Source_object_id</th>\n",
       "      <th>Target_object_id</th>\n",
       "      <th>O2O_qualifier</th>\n",
       "      <th>Timestamp</th>\n",
       "    </tr>\n",
       "  </thead>\n",
       "  <tbody>\n",
       "    <tr>\n",
       "      <th>0</th>\n",
       "      <td>Pcp3</td>\n",
       "      <td>Cr1</td>\n",
       "      <td>Lodged pickup plan for cargo</td>\n",
       "      <td>2024-04-29 08:12:32</td>\n",
       "    </tr>\n",
       "    <tr>\n",
       "      <th>1</th>\n",
       "      <td>Pcp9</td>\n",
       "      <td>Cr14</td>\n",
       "      <td>Lodged pickup plan for cargo</td>\n",
       "      <td>2024-04-29 08:39:46</td>\n",
       "    </tr>\n",
       "    <tr>\n",
       "      <th>2</th>\n",
       "      <td>Pcp6</td>\n",
       "      <td>Cr17</td>\n",
       "      <td>Lodged pickup plan for cargo</td>\n",
       "      <td>2024-04-29 08:46:20</td>\n",
       "    </tr>\n",
       "    <tr>\n",
       "      <th>3</th>\n",
       "      <td>Pcp2</td>\n",
       "      <td>Cr11</td>\n",
       "      <td>Lodged pickup plan for cargo</td>\n",
       "      <td>2024-04-29 09:07:13</td>\n",
       "    </tr>\n",
       "    <tr>\n",
       "      <th>4</th>\n",
       "      <td>Pcp8</td>\n",
       "      <td>Cr4</td>\n",
       "      <td>Lodged pickup plan for cargo</td>\n",
       "      <td>2024-04-29 09:07:35</td>\n",
       "    </tr>\n",
       "  </tbody>\n",
       "</table>\n",
       "</div>"
      ],
      "text/plain": [
       "  Source_object_id Target_object_id                 O2O_qualifier  \\\n",
       "0             Pcp3              Cr1  Lodged pickup plan for cargo   \n",
       "1             Pcp9             Cr14  Lodged pickup plan for cargo   \n",
       "2             Pcp6             Cr17  Lodged pickup plan for cargo   \n",
       "3             Pcp2             Cr11  Lodged pickup plan for cargo   \n",
       "4             Pcp8              Cr4  Lodged pickup plan for cargo   \n",
       "\n",
       "             Timestamp  \n",
       "0  2024-04-29 08:12:32  \n",
       "1  2024-04-29 08:39:46  \n",
       "2  2024-04-29 08:46:20  \n",
       "3  2024-04-29 09:07:13  \n",
       "4  2024-04-29 09:07:35  "
      ]
     },
     "execution_count": 50,
     "metadata": {},
     "output_type": "execute_result"
    }
   ],
   "source": [
    "o2o_df.head()"
   ]
  },
  {
   "cell_type": "code",
   "execution_count": 51,
   "id": "e49bd302",
   "metadata": {},
   "outputs": [],
   "source": [
    "o2o_df.to_csv('OCEL_O2O.csv', index = False)"
   ]
  },
  {
   "cell_type": "markdown",
   "id": "5909264c",
   "metadata": {},
   "source": [
    "### IoT-to-Events relationships"
   ]
  },
  {
   "cell_type": "code",
   "execution_count": 52,
   "id": "f52bd4d7",
   "metadata": {},
   "outputs": [],
   "source": [
    "e2IoTo_df = pd.read_csv('event_IoTobject.csv')\n",
    "e2IoTo_df = e2IoTo_df['ocel_event_id;ocel_IoT_object_id;ocel_qualifier'].str.split(';', expand=True)\n",
    "e2IoTo_df.columns = ['ocel_event_id', 'ocel_IoT_object_id', 'ocel_qualifier']"
   ]
  },
  {
   "cell_type": "code",
   "execution_count": 53,
   "id": "233c22de",
   "metadata": {},
   "outputs": [
    {
     "data": {
      "text/html": [
       "<div>\n",
       "<style scoped>\n",
       "    .dataframe tbody tr th:only-of-type {\n",
       "        vertical-align: middle;\n",
       "    }\n",
       "\n",
       "    .dataframe tbody tr th {\n",
       "        vertical-align: top;\n",
       "    }\n",
       "\n",
       "    .dataframe thead th {\n",
       "        text-align: right;\n",
       "    }\n",
       "</style>\n",
       "<table border=\"1\" class=\"dataframe\">\n",
       "  <thead>\n",
       "    <tr style=\"text-align: right;\">\n",
       "      <th></th>\n",
       "      <th>ocel_event_id</th>\n",
       "      <th>ocel_IoT_object_id</th>\n",
       "      <th>ocel_qualifier</th>\n",
       "    </tr>\n",
       "  </thead>\n",
       "  <tbody>\n",
       "    <tr>\n",
       "      <th>0</th>\n",
       "      <td>trs_entrytr30</td>\n",
       "      <td>rfidWVBFTX</td>\n",
       "      <td>RFID tag read at entrance</td>\n",
       "    </tr>\n",
       "    <tr>\n",
       "      <th>1</th>\n",
       "      <td>trs_entrytr45</td>\n",
       "      <td>rfidQDDPEL</td>\n",
       "      <td>RFID tag read at entrance</td>\n",
       "    </tr>\n",
       "    <tr>\n",
       "      <th>2</th>\n",
       "      <td>weigh_empty_trucktr30</td>\n",
       "      <td>WS16</td>\n",
       "      <td>Weight sensor for empty truck weighing</td>\n",
       "    </tr>\n",
       "    <tr>\n",
       "      <th>3</th>\n",
       "      <td>trs_entrytr19</td>\n",
       "      <td>rfidSHHSUU</td>\n",
       "      <td>RFID tag read at entrance</td>\n",
       "    </tr>\n",
       "    <tr>\n",
       "      <th>4</th>\n",
       "      <td>weigh_empty_trucktr19</td>\n",
       "      <td>WS13</td>\n",
       "      <td>Weight sensor for empty truck weighing</td>\n",
       "    </tr>\n",
       "    <tr>\n",
       "      <th>...</th>\n",
       "      <td>...</td>\n",
       "      <td>...</td>\n",
       "      <td>...</td>\n",
       "    </tr>\n",
       "    <tr>\n",
       "      <th>2614</th>\n",
       "      <td>weigh_loaded_trucktr38</td>\n",
       "      <td>WS20</td>\n",
       "      <td>Weight sensor for loaded truck weighing</td>\n",
       "    </tr>\n",
       "    <tr>\n",
       "      <th>2615</th>\n",
       "      <td>weigh_loaded_trucktr40</td>\n",
       "      <td>WS02</td>\n",
       "      <td>Weight sensor for loaded truck weighing</td>\n",
       "    </tr>\n",
       "    <tr>\n",
       "      <th>2616</th>\n",
       "      <td>weigh_loaded_trucktr18</td>\n",
       "      <td>WS02</td>\n",
       "      <td>Weight sensor for loaded truck weighing</td>\n",
       "    </tr>\n",
       "    <tr>\n",
       "      <th>2617</th>\n",
       "      <td>weigh_loaded_trucktr13</td>\n",
       "      <td>WS12</td>\n",
       "      <td>Weight sensor for loaded truck weighing</td>\n",
       "    </tr>\n",
       "    <tr>\n",
       "      <th>2618</th>\n",
       "      <td>weigh_loaded_trucktr19</td>\n",
       "      <td>WS18</td>\n",
       "      <td>Weight sensor for loaded truck weighing</td>\n",
       "    </tr>\n",
       "  </tbody>\n",
       "</table>\n",
       "<p>2619 rows × 3 columns</p>\n",
       "</div>"
      ],
      "text/plain": [
       "               ocel_event_id ocel_IoT_object_id  \\\n",
       "0              trs_entrytr30         rfidWVBFTX   \n",
       "1              trs_entrytr45         rfidQDDPEL   \n",
       "2      weigh_empty_trucktr30               WS16   \n",
       "3              trs_entrytr19         rfidSHHSUU   \n",
       "4      weigh_empty_trucktr19               WS13   \n",
       "...                      ...                ...   \n",
       "2614  weigh_loaded_trucktr38               WS20   \n",
       "2615  weigh_loaded_trucktr40               WS02   \n",
       "2616  weigh_loaded_trucktr18               WS02   \n",
       "2617  weigh_loaded_trucktr13               WS12   \n",
       "2618  weigh_loaded_trucktr19               WS18   \n",
       "\n",
       "                               ocel_qualifier  \n",
       "0                   RFID tag read at entrance  \n",
       "1                   RFID tag read at entrance  \n",
       "2      Weight sensor for empty truck weighing  \n",
       "3                   RFID tag read at entrance  \n",
       "4      Weight sensor for empty truck weighing  \n",
       "...                                       ...  \n",
       "2614  Weight sensor for loaded truck weighing  \n",
       "2615  Weight sensor for loaded truck weighing  \n",
       "2616  Weight sensor for loaded truck weighing  \n",
       "2617  Weight sensor for loaded truck weighing  \n",
       "2618  Weight sensor for loaded truck weighing  \n",
       "\n",
       "[2619 rows x 3 columns]"
      ]
     },
     "execution_count": 53,
     "metadata": {},
     "output_type": "execute_result"
    }
   ],
   "source": [
    "e2IoTo_df"
   ]
  },
  {
   "cell_type": "code",
   "execution_count": 54,
   "id": "6d97bd98",
   "metadata": {},
   "outputs": [],
   "source": [
    "e2IoTo_df.rename(columns={'ocel_event_id': 'Event_id', 'ocel_IoT_object_id': 'IoT_object_id', 'ocel_qualifier': 'IoT2E_qualifier'}, inplace=True)"
   ]
  },
  {
   "cell_type": "code",
   "execution_count": 55,
   "id": "824363aa",
   "metadata": {},
   "outputs": [
    {
     "data": {
      "text/html": [
       "<div>\n",
       "<style scoped>\n",
       "    .dataframe tbody tr th:only-of-type {\n",
       "        vertical-align: middle;\n",
       "    }\n",
       "\n",
       "    .dataframe tbody tr th {\n",
       "        vertical-align: top;\n",
       "    }\n",
       "\n",
       "    .dataframe thead th {\n",
       "        text-align: right;\n",
       "    }\n",
       "</style>\n",
       "<table border=\"1\" class=\"dataframe\">\n",
       "  <thead>\n",
       "    <tr style=\"text-align: right;\">\n",
       "      <th></th>\n",
       "      <th>Event_id</th>\n",
       "      <th>IoT_object_id</th>\n",
       "      <th>IoT2E_qualifier</th>\n",
       "    </tr>\n",
       "  </thead>\n",
       "  <tbody>\n",
       "    <tr>\n",
       "      <th>0</th>\n",
       "      <td>trs_entrytr30</td>\n",
       "      <td>rfidWVBFTX</td>\n",
       "      <td>RFID tag read at entrance</td>\n",
       "    </tr>\n",
       "    <tr>\n",
       "      <th>1</th>\n",
       "      <td>trs_entrytr45</td>\n",
       "      <td>rfidQDDPEL</td>\n",
       "      <td>RFID tag read at entrance</td>\n",
       "    </tr>\n",
       "    <tr>\n",
       "      <th>2</th>\n",
       "      <td>weigh_empty_trucktr30</td>\n",
       "      <td>WS16</td>\n",
       "      <td>Weight sensor for empty truck weighing</td>\n",
       "    </tr>\n",
       "    <tr>\n",
       "      <th>3</th>\n",
       "      <td>trs_entrytr19</td>\n",
       "      <td>rfidSHHSUU</td>\n",
       "      <td>RFID tag read at entrance</td>\n",
       "    </tr>\n",
       "    <tr>\n",
       "      <th>4</th>\n",
       "      <td>weigh_empty_trucktr19</td>\n",
       "      <td>WS13</td>\n",
       "      <td>Weight sensor for empty truck weighing</td>\n",
       "    </tr>\n",
       "    <tr>\n",
       "      <th>...</th>\n",
       "      <td>...</td>\n",
       "      <td>...</td>\n",
       "      <td>...</td>\n",
       "    </tr>\n",
       "    <tr>\n",
       "      <th>2614</th>\n",
       "      <td>weigh_loaded_trucktr38</td>\n",
       "      <td>WS20</td>\n",
       "      <td>Weight sensor for loaded truck weighing</td>\n",
       "    </tr>\n",
       "    <tr>\n",
       "      <th>2615</th>\n",
       "      <td>weigh_loaded_trucktr40</td>\n",
       "      <td>WS02</td>\n",
       "      <td>Weight sensor for loaded truck weighing</td>\n",
       "    </tr>\n",
       "    <tr>\n",
       "      <th>2616</th>\n",
       "      <td>weigh_loaded_trucktr18</td>\n",
       "      <td>WS02</td>\n",
       "      <td>Weight sensor for loaded truck weighing</td>\n",
       "    </tr>\n",
       "    <tr>\n",
       "      <th>2617</th>\n",
       "      <td>weigh_loaded_trucktr13</td>\n",
       "      <td>WS12</td>\n",
       "      <td>Weight sensor for loaded truck weighing</td>\n",
       "    </tr>\n",
       "    <tr>\n",
       "      <th>2618</th>\n",
       "      <td>weigh_loaded_trucktr19</td>\n",
       "      <td>WS18</td>\n",
       "      <td>Weight sensor for loaded truck weighing</td>\n",
       "    </tr>\n",
       "  </tbody>\n",
       "</table>\n",
       "<p>2619 rows × 3 columns</p>\n",
       "</div>"
      ],
      "text/plain": [
       "                    Event_id IoT_object_id  \\\n",
       "0              trs_entrytr30    rfidWVBFTX   \n",
       "1              trs_entrytr45    rfidQDDPEL   \n",
       "2      weigh_empty_trucktr30          WS16   \n",
       "3              trs_entrytr19    rfidSHHSUU   \n",
       "4      weigh_empty_trucktr19          WS13   \n",
       "...                      ...           ...   \n",
       "2614  weigh_loaded_trucktr38          WS20   \n",
       "2615  weigh_loaded_trucktr40          WS02   \n",
       "2616  weigh_loaded_trucktr18          WS02   \n",
       "2617  weigh_loaded_trucktr13          WS12   \n",
       "2618  weigh_loaded_trucktr19          WS18   \n",
       "\n",
       "                              IoT2E_qualifier  \n",
       "0                   RFID tag read at entrance  \n",
       "1                   RFID tag read at entrance  \n",
       "2      Weight sensor for empty truck weighing  \n",
       "3                   RFID tag read at entrance  \n",
       "4      Weight sensor for empty truck weighing  \n",
       "...                                       ...  \n",
       "2614  Weight sensor for loaded truck weighing  \n",
       "2615  Weight sensor for loaded truck weighing  \n",
       "2616  Weight sensor for loaded truck weighing  \n",
       "2617  Weight sensor for loaded truck weighing  \n",
       "2618  Weight sensor for loaded truck weighing  \n",
       "\n",
       "[2619 rows x 3 columns]"
      ]
     },
     "execution_count": 55,
     "metadata": {},
     "output_type": "execute_result"
    }
   ],
   "source": [
    "e2IoTo_df"
   ]
  },
  {
   "cell_type": "code",
   "execution_count": 56,
   "id": "7cff9fef",
   "metadata": {},
   "outputs": [],
   "source": [
    "e2IoTo_df.to_csv('OCEL_IoT2E.csv', index = False)"
   ]
  },
  {
   "cell_type": "markdown",
   "id": "fe6cd3bf",
   "metadata": {},
   "source": [
    "### IoT-to-Object relationships"
   ]
  },
  {
   "cell_type": "code",
   "execution_count": 57,
   "id": "94901e81",
   "metadata": {},
   "outputs": [],
   "source": [
    "o2IoTo_df = pd.read_csv('object_IoTobject.csv')\n",
    "o2IoTo_df = o2IoTo_df['ocel_IoTobject_id;ocel_object_id;ocel_qualifier;ocel_time'].str.split(';', expand=True)\n",
    "o2IoTo_df.columns = ['ocel_IoTobject_id', 'ocel_object_id', 'ocel_qualifier','ocel_time']"
   ]
  },
  {
   "cell_type": "code",
   "execution_count": 58,
   "id": "d203539a",
   "metadata": {},
   "outputs": [
    {
     "data": {
      "text/html": [
       "<div>\n",
       "<style scoped>\n",
       "    .dataframe tbody tr th:only-of-type {\n",
       "        vertical-align: middle;\n",
       "    }\n",
       "\n",
       "    .dataframe tbody tr th {\n",
       "        vertical-align: top;\n",
       "    }\n",
       "\n",
       "    .dataframe thead th {\n",
       "        text-align: right;\n",
       "    }\n",
       "</style>\n",
       "<table border=\"1\" class=\"dataframe\">\n",
       "  <thead>\n",
       "    <tr style=\"text-align: right;\">\n",
       "      <th></th>\n",
       "      <th>ocel_IoTobject_id</th>\n",
       "      <th>ocel_object_id</th>\n",
       "      <th>ocel_qualifier</th>\n",
       "      <th>ocel_time</th>\n",
       "    </tr>\n",
       "  </thead>\n",
       "  <tbody>\n",
       "    <tr>\n",
       "      <th>0</th>\n",
       "      <td>WS16</td>\n",
       "      <td>tr30</td>\n",
       "      <td>Weight sensor measuring empty truck weight</td>\n",
       "      <td>2024-05-01 15:54:29</td>\n",
       "    </tr>\n",
       "    <tr>\n",
       "      <th>1</th>\n",
       "      <td>WS13</td>\n",
       "      <td>tr19</td>\n",
       "      <td>Weight sensor measuring empty truck weight</td>\n",
       "      <td>2024-05-01 16:23:31</td>\n",
       "    </tr>\n",
       "    <tr>\n",
       "      <th>2</th>\n",
       "      <td>WS09</td>\n",
       "      <td>tr34</td>\n",
       "      <td>Weight sensor measuring empty truck weight</td>\n",
       "      <td>2024-05-01 16:57:54</td>\n",
       "    </tr>\n",
       "    <tr>\n",
       "      <th>3</th>\n",
       "      <td>WS07</td>\n",
       "      <td>tr45</td>\n",
       "      <td>Weight sensor measuring empty truck weight</td>\n",
       "      <td>2024-05-01 16:58:07</td>\n",
       "    </tr>\n",
       "    <tr>\n",
       "      <th>4</th>\n",
       "      <td>WS03</td>\n",
       "      <td>tr40</td>\n",
       "      <td>Weight sensor measuring empty truck weight</td>\n",
       "      <td>2024-05-01 17:28:48</td>\n",
       "    </tr>\n",
       "    <tr>\n",
       "      <th>...</th>\n",
       "      <td>...</td>\n",
       "      <td>...</td>\n",
       "      <td>...</td>\n",
       "      <td>...</td>\n",
       "    </tr>\n",
       "    <tr>\n",
       "      <th>1632</th>\n",
       "      <td>WS20</td>\n",
       "      <td>tr38</td>\n",
       "      <td>Weight sensor measuring loaded truck weight</td>\n",
       "      <td>2024-06-11 09:56:08</td>\n",
       "    </tr>\n",
       "    <tr>\n",
       "      <th>1633</th>\n",
       "      <td>WS02</td>\n",
       "      <td>tr40</td>\n",
       "      <td>Weight sensor measuring loaded truck weight</td>\n",
       "      <td>2024-06-11 10:52:34</td>\n",
       "    </tr>\n",
       "    <tr>\n",
       "      <th>1634</th>\n",
       "      <td>WS02</td>\n",
       "      <td>tr18</td>\n",
       "      <td>Weight sensor measuring loaded truck weight</td>\n",
       "      <td>2024-06-11 12:54:35</td>\n",
       "    </tr>\n",
       "    <tr>\n",
       "      <th>1635</th>\n",
       "      <td>WS12</td>\n",
       "      <td>tr13</td>\n",
       "      <td>Weight sensor measuring loaded truck weight</td>\n",
       "      <td>2024-06-12 07:18:40</td>\n",
       "    </tr>\n",
       "    <tr>\n",
       "      <th>1636</th>\n",
       "      <td>WS18</td>\n",
       "      <td>tr19</td>\n",
       "      <td>Weight sensor measuring loaded truck weight</td>\n",
       "      <td>2024-06-12 07:47:58</td>\n",
       "    </tr>\n",
       "  </tbody>\n",
       "</table>\n",
       "<p>1637 rows × 4 columns</p>\n",
       "</div>"
      ],
      "text/plain": [
       "     ocel_IoTobject_id ocel_object_id  \\\n",
       "0                 WS16           tr30   \n",
       "1                 WS13           tr19   \n",
       "2                 WS09           tr34   \n",
       "3                 WS07           tr45   \n",
       "4                 WS03           tr40   \n",
       "...                ...            ...   \n",
       "1632              WS20           tr38   \n",
       "1633              WS02           tr40   \n",
       "1634              WS02           tr18   \n",
       "1635              WS12           tr13   \n",
       "1636              WS18           tr19   \n",
       "\n",
       "                                   ocel_qualifier            ocel_time  \n",
       "0      Weight sensor measuring empty truck weight  2024-05-01 15:54:29  \n",
       "1      Weight sensor measuring empty truck weight  2024-05-01 16:23:31  \n",
       "2      Weight sensor measuring empty truck weight  2024-05-01 16:57:54  \n",
       "3      Weight sensor measuring empty truck weight  2024-05-01 16:58:07  \n",
       "4      Weight sensor measuring empty truck weight  2024-05-01 17:28:48  \n",
       "...                                           ...                  ...  \n",
       "1632  Weight sensor measuring loaded truck weight  2024-06-11 09:56:08  \n",
       "1633  Weight sensor measuring loaded truck weight  2024-06-11 10:52:34  \n",
       "1634  Weight sensor measuring loaded truck weight  2024-06-11 12:54:35  \n",
       "1635  Weight sensor measuring loaded truck weight  2024-06-12 07:18:40  \n",
       "1636  Weight sensor measuring loaded truck weight  2024-06-12 07:47:58  \n",
       "\n",
       "[1637 rows x 4 columns]"
      ]
     },
     "execution_count": 58,
     "metadata": {},
     "output_type": "execute_result"
    }
   ],
   "source": [
    "o2IoTo_df"
   ]
  },
  {
   "cell_type": "code",
   "execution_count": 59,
   "id": "a537f66f",
   "metadata": {},
   "outputs": [],
   "source": [
    "o2IoTo_df.rename(columns={'ocel_IoTobject_id': 'IoT_object_id', 'ocel_object_id': 'Object_id', 'ocel_qualifier': 'IoT2O_qualifier','ocel_time':'Timestamp'}, inplace=True)"
   ]
  },
  {
   "cell_type": "code",
   "execution_count": 60,
   "id": "64dfb684",
   "metadata": {},
   "outputs": [
    {
     "data": {
      "text/html": [
       "<div>\n",
       "<style scoped>\n",
       "    .dataframe tbody tr th:only-of-type {\n",
       "        vertical-align: middle;\n",
       "    }\n",
       "\n",
       "    .dataframe tbody tr th {\n",
       "        vertical-align: top;\n",
       "    }\n",
       "\n",
       "    .dataframe thead th {\n",
       "        text-align: right;\n",
       "    }\n",
       "</style>\n",
       "<table border=\"1\" class=\"dataframe\">\n",
       "  <thead>\n",
       "    <tr style=\"text-align: right;\">\n",
       "      <th></th>\n",
       "      <th>IoT_object_id</th>\n",
       "      <th>Object_id</th>\n",
       "      <th>IoT2O_qualifier</th>\n",
       "      <th>Timestamp</th>\n",
       "    </tr>\n",
       "  </thead>\n",
       "  <tbody>\n",
       "    <tr>\n",
       "      <th>0</th>\n",
       "      <td>WS16</td>\n",
       "      <td>tr30</td>\n",
       "      <td>Weight sensor measuring empty truck weight</td>\n",
       "      <td>2024-05-01 15:54:29</td>\n",
       "    </tr>\n",
       "    <tr>\n",
       "      <th>1</th>\n",
       "      <td>WS13</td>\n",
       "      <td>tr19</td>\n",
       "      <td>Weight sensor measuring empty truck weight</td>\n",
       "      <td>2024-05-01 16:23:31</td>\n",
       "    </tr>\n",
       "    <tr>\n",
       "      <th>2</th>\n",
       "      <td>WS09</td>\n",
       "      <td>tr34</td>\n",
       "      <td>Weight sensor measuring empty truck weight</td>\n",
       "      <td>2024-05-01 16:57:54</td>\n",
       "    </tr>\n",
       "    <tr>\n",
       "      <th>3</th>\n",
       "      <td>WS07</td>\n",
       "      <td>tr45</td>\n",
       "      <td>Weight sensor measuring empty truck weight</td>\n",
       "      <td>2024-05-01 16:58:07</td>\n",
       "    </tr>\n",
       "    <tr>\n",
       "      <th>4</th>\n",
       "      <td>WS03</td>\n",
       "      <td>tr40</td>\n",
       "      <td>Weight sensor measuring empty truck weight</td>\n",
       "      <td>2024-05-01 17:28:48</td>\n",
       "    </tr>\n",
       "    <tr>\n",
       "      <th>...</th>\n",
       "      <td>...</td>\n",
       "      <td>...</td>\n",
       "      <td>...</td>\n",
       "      <td>...</td>\n",
       "    </tr>\n",
       "    <tr>\n",
       "      <th>1632</th>\n",
       "      <td>WS20</td>\n",
       "      <td>tr38</td>\n",
       "      <td>Weight sensor measuring loaded truck weight</td>\n",
       "      <td>2024-06-11 09:56:08</td>\n",
       "    </tr>\n",
       "    <tr>\n",
       "      <th>1633</th>\n",
       "      <td>WS02</td>\n",
       "      <td>tr40</td>\n",
       "      <td>Weight sensor measuring loaded truck weight</td>\n",
       "      <td>2024-06-11 10:52:34</td>\n",
       "    </tr>\n",
       "    <tr>\n",
       "      <th>1634</th>\n",
       "      <td>WS02</td>\n",
       "      <td>tr18</td>\n",
       "      <td>Weight sensor measuring loaded truck weight</td>\n",
       "      <td>2024-06-11 12:54:35</td>\n",
       "    </tr>\n",
       "    <tr>\n",
       "      <th>1635</th>\n",
       "      <td>WS12</td>\n",
       "      <td>tr13</td>\n",
       "      <td>Weight sensor measuring loaded truck weight</td>\n",
       "      <td>2024-06-12 07:18:40</td>\n",
       "    </tr>\n",
       "    <tr>\n",
       "      <th>1636</th>\n",
       "      <td>WS18</td>\n",
       "      <td>tr19</td>\n",
       "      <td>Weight sensor measuring loaded truck weight</td>\n",
       "      <td>2024-06-12 07:47:58</td>\n",
       "    </tr>\n",
       "  </tbody>\n",
       "</table>\n",
       "<p>1637 rows × 4 columns</p>\n",
       "</div>"
      ],
      "text/plain": [
       "     IoT_object_id Object_id                              IoT2O_qualifier  \\\n",
       "0             WS16      tr30   Weight sensor measuring empty truck weight   \n",
       "1             WS13      tr19   Weight sensor measuring empty truck weight   \n",
       "2             WS09      tr34   Weight sensor measuring empty truck weight   \n",
       "3             WS07      tr45   Weight sensor measuring empty truck weight   \n",
       "4             WS03      tr40   Weight sensor measuring empty truck weight   \n",
       "...            ...       ...                                          ...   \n",
       "1632          WS20      tr38  Weight sensor measuring loaded truck weight   \n",
       "1633          WS02      tr40  Weight sensor measuring loaded truck weight   \n",
       "1634          WS02      tr18  Weight sensor measuring loaded truck weight   \n",
       "1635          WS12      tr13  Weight sensor measuring loaded truck weight   \n",
       "1636          WS18      tr19  Weight sensor measuring loaded truck weight   \n",
       "\n",
       "                Timestamp  \n",
       "0     2024-05-01 15:54:29  \n",
       "1     2024-05-01 16:23:31  \n",
       "2     2024-05-01 16:57:54  \n",
       "3     2024-05-01 16:58:07  \n",
       "4     2024-05-01 17:28:48  \n",
       "...                   ...  \n",
       "1632  2024-06-11 09:56:08  \n",
       "1633  2024-06-11 10:52:34  \n",
       "1634  2024-06-11 12:54:35  \n",
       "1635  2024-06-12 07:18:40  \n",
       "1636  2024-06-12 07:47:58  \n",
       "\n",
       "[1637 rows x 4 columns]"
      ]
     },
     "execution_count": 60,
     "metadata": {},
     "output_type": "execute_result"
    }
   ],
   "source": [
    "o2IoTo_df"
   ]
  },
  {
   "cell_type": "code",
   "execution_count": 61,
   "id": "6f0f90fc",
   "metadata": {},
   "outputs": [],
   "source": [
    "o2IoTo_df.to_csv('OCEL_IoT2O.csv', index = False)"
   ]
  },
  {
   "cell_type": "markdown",
   "id": "2fce3558",
   "metadata": {},
   "source": [
    "### Object:Truck"
   ]
  },
  {
   "cell_type": "code",
   "execution_count": 62,
   "id": "550baf2b",
   "metadata": {},
   "outputs": [],
   "source": [
    "truck_df = pd.read_csv('object_Truck.csv')\n",
    "truck_df = truck_df['ocel_id;ocel_time;ocel_changed_field;RFID No;Pickup Plan ID;Cargo ID;LPT;Axles;Scheduled Pickup Weight;Truck Status;Truck Weight;Is_normal'].str.split(';', expand=True)\n",
    "truck_df.columns = ['ocel_id','ocel_time','ocel_changed_field','RFID tag','Pickup Plan ID','Cargo ID','LPT','Axles','Scheduled Pickup Weight','Truck Status','Truck Weight','Is_normal']\n",
    "truck_df.rename(columns={'ocel_id': 'Object_id', 'ocel_time': 'Timestamp','ocel_changed_field': 'Ocel_changed_field','Pickup Plan ID': 'PickupPlanID', 'Cargo ID':'CargoID'}, inplace=True)"
   ]
  },
  {
   "cell_type": "code",
   "execution_count": 63,
   "id": "347bd19c",
   "metadata": {},
   "outputs": [
    {
     "data": {
      "text/html": [
       "<div>\n",
       "<style scoped>\n",
       "    .dataframe tbody tr th:only-of-type {\n",
       "        vertical-align: middle;\n",
       "    }\n",
       "\n",
       "    .dataframe tbody tr th {\n",
       "        vertical-align: top;\n",
       "    }\n",
       "\n",
       "    .dataframe thead th {\n",
       "        text-align: right;\n",
       "    }\n",
       "</style>\n",
       "<table border=\"1\" class=\"dataframe\">\n",
       "  <thead>\n",
       "    <tr style=\"text-align: right;\">\n",
       "      <th></th>\n",
       "      <th>Object_id</th>\n",
       "      <th>Timestamp</th>\n",
       "      <th>Ocel_changed_field</th>\n",
       "      <th>RFID tag</th>\n",
       "      <th>PickupPlanID</th>\n",
       "      <th>CargoID</th>\n",
       "      <th>LPT</th>\n",
       "      <th>Axles</th>\n",
       "      <th>Scheduled Pickup Weight</th>\n",
       "      <th>Truck Status</th>\n",
       "      <th>Truck Weight</th>\n",
       "      <th>Is_normal</th>\n",
       "    </tr>\n",
       "  </thead>\n",
       "  <tbody>\n",
       "    <tr>\n",
       "      <th>0</th>\n",
       "      <td>tr31</td>\n",
       "      <td>2024-03-04 00:00:00</td>\n",
       "      <td></td>\n",
       "      <td>rfidPCHSPX</td>\n",
       "      <td></td>\n",
       "      <td></td>\n",
       "      <td>665MJJ</td>\n",
       "      <td>6</td>\n",
       "      <td>0.0</td>\n",
       "      <td>Available</td>\n",
       "      <td>0.0</td>\n",
       "      <td>None</td>\n",
       "    </tr>\n",
       "    <tr>\n",
       "      <th>1</th>\n",
       "      <td>tr30</td>\n",
       "      <td>2024-03-04 00:00:00</td>\n",
       "      <td></td>\n",
       "      <td>rfidWVBFTX</td>\n",
       "      <td></td>\n",
       "      <td></td>\n",
       "      <td>125YSO</td>\n",
       "      <td>4</td>\n",
       "      <td>0.0</td>\n",
       "      <td>Available</td>\n",
       "      <td>0.0</td>\n",
       "      <td>None</td>\n",
       "    </tr>\n",
       "    <tr>\n",
       "      <th>2</th>\n",
       "      <td>tr8</td>\n",
       "      <td>2024-03-04 00:00:00</td>\n",
       "      <td></td>\n",
       "      <td>rfidEMPMPR</td>\n",
       "      <td></td>\n",
       "      <td></td>\n",
       "      <td>606MXL</td>\n",
       "      <td>4</td>\n",
       "      <td>0.0</td>\n",
       "      <td>Available</td>\n",
       "      <td>0.0</td>\n",
       "      <td>None</td>\n",
       "    </tr>\n",
       "    <tr>\n",
       "      <th>3</th>\n",
       "      <td>tr17</td>\n",
       "      <td>2024-03-04 00:00:00</td>\n",
       "      <td></td>\n",
       "      <td>rfidRSRUSS</td>\n",
       "      <td></td>\n",
       "      <td></td>\n",
       "      <td>012CRA</td>\n",
       "      <td>2</td>\n",
       "      <td>0.0</td>\n",
       "      <td>Available</td>\n",
       "      <td>0.0</td>\n",
       "      <td>None</td>\n",
       "    </tr>\n",
       "    <tr>\n",
       "      <th>4</th>\n",
       "      <td>tr18</td>\n",
       "      <td>2024-03-04 00:00:00</td>\n",
       "      <td></td>\n",
       "      <td>rfidTJXXRH</td>\n",
       "      <td></td>\n",
       "      <td></td>\n",
       "      <td>249VPA</td>\n",
       "      <td>6</td>\n",
       "      <td>0.0</td>\n",
       "      <td>Available</td>\n",
       "      <td>0.0</td>\n",
       "      <td>None</td>\n",
       "    </tr>\n",
       "  </tbody>\n",
       "</table>\n",
       "</div>"
      ],
      "text/plain": [
       "  Object_id            Timestamp Ocel_changed_field    RFID tag PickupPlanID  \\\n",
       "0      tr31  2024-03-04 00:00:00                     rfidPCHSPX                \n",
       "1      tr30  2024-03-04 00:00:00                     rfidWVBFTX                \n",
       "2       tr8  2024-03-04 00:00:00                     rfidEMPMPR                \n",
       "3      tr17  2024-03-04 00:00:00                     rfidRSRUSS                \n",
       "4      tr18  2024-03-04 00:00:00                     rfidTJXXRH                \n",
       "\n",
       "  CargoID     LPT Axles Scheduled Pickup Weight Truck Status Truck Weight  \\\n",
       "0          665MJJ     6                     0.0    Available          0.0   \n",
       "1          125YSO     4                     0.0    Available          0.0   \n",
       "2          606MXL     4                     0.0    Available          0.0   \n",
       "3          012CRA     2                     0.0    Available          0.0   \n",
       "4          249VPA     6                     0.0    Available          0.0   \n",
       "\n",
       "  Is_normal  \n",
       "0      None  \n",
       "1      None  \n",
       "2      None  \n",
       "3      None  \n",
       "4      None  "
      ]
     },
     "execution_count": 63,
     "metadata": {},
     "output_type": "execute_result"
    }
   ],
   "source": [
    "truck_df.head()"
   ]
  },
  {
   "cell_type": "code",
   "execution_count": 64,
   "id": "1c609991",
   "metadata": {},
   "outputs": [],
   "source": [
    "truck_df.to_csv('OCEL_Truck.csv', index = False)"
   ]
  },
  {
   "cell_type": "markdown",
   "id": "71f5c319",
   "metadata": {},
   "source": [
    "### Object: PickupPlan"
   ]
  },
  {
   "cell_type": "code",
   "execution_count": 65,
   "id": "31f7bd02",
   "metadata": {},
   "outputs": [],
   "source": [
    "pickupplan_df = pd.read_csv('object_Pickupplan.csv')\n",
    "pickupplan_df = pickupplan_df['ocel_id;ocel_time;ocel_changed_field;Cargo ID;Num of trucks;Total pickup weight'].str.split(';', expand=True)\n",
    "pickupplan_df.columns = ['ocel_id','ocel_time','ocel_changed_field','Cargo ID','Num of trucks','Total pickup weight']\n",
    "pickupplan_df.rename(columns={'ocel_id': 'Object_id', 'ocel_time': 'Timestamp','ocel_changed_field': 'Ocel_changed_field','Cargo ID': 'CargoID'}, inplace=True)"
   ]
  },
  {
   "cell_type": "code",
   "execution_count": 66,
   "id": "ec0a0ef7",
   "metadata": {},
   "outputs": [
    {
     "data": {
      "text/html": [
       "<div>\n",
       "<style scoped>\n",
       "    .dataframe tbody tr th:only-of-type {\n",
       "        vertical-align: middle;\n",
       "    }\n",
       "\n",
       "    .dataframe tbody tr th {\n",
       "        vertical-align: top;\n",
       "    }\n",
       "\n",
       "    .dataframe thead th {\n",
       "        text-align: right;\n",
       "    }\n",
       "</style>\n",
       "<table border=\"1\" class=\"dataframe\">\n",
       "  <thead>\n",
       "    <tr style=\"text-align: right;\">\n",
       "      <th></th>\n",
       "      <th>Object_id</th>\n",
       "      <th>Timestamp</th>\n",
       "      <th>Ocel_changed_field</th>\n",
       "      <th>CargoID</th>\n",
       "      <th>Num of trucks</th>\n",
       "      <th>Total pickup weight</th>\n",
       "    </tr>\n",
       "  </thead>\n",
       "  <tbody>\n",
       "    <tr>\n",
       "      <th>0</th>\n",
       "      <td>Pcp3</td>\n",
       "      <td>2024-04-29 08:12:32</td>\n",
       "      <td></td>\n",
       "      <td>Cr1</td>\n",
       "      <td>44</td>\n",
       "      <td>413013.5</td>\n",
       "    </tr>\n",
       "    <tr>\n",
       "      <th>1</th>\n",
       "      <td>Pcp9</td>\n",
       "      <td>2024-04-29 08:39:46</td>\n",
       "      <td></td>\n",
       "      <td>Cr14</td>\n",
       "      <td>28</td>\n",
       "      <td>261674.3</td>\n",
       "    </tr>\n",
       "    <tr>\n",
       "      <th>2</th>\n",
       "      <td>Pcp6</td>\n",
       "      <td>2024-04-29 08:46:20</td>\n",
       "      <td></td>\n",
       "      <td>Cr17</td>\n",
       "      <td>40</td>\n",
       "      <td>372842.9</td>\n",
       "    </tr>\n",
       "    <tr>\n",
       "      <th>3</th>\n",
       "      <td>Pcp2</td>\n",
       "      <td>2024-04-29 09:07:13</td>\n",
       "      <td></td>\n",
       "      <td>Cr11</td>\n",
       "      <td>60</td>\n",
       "      <td>569072.7</td>\n",
       "    </tr>\n",
       "    <tr>\n",
       "      <th>4</th>\n",
       "      <td>Pcp8</td>\n",
       "      <td>2024-04-29 09:07:35</td>\n",
       "      <td></td>\n",
       "      <td>Cr4</td>\n",
       "      <td>68</td>\n",
       "      <td>639757.5</td>\n",
       "    </tr>\n",
       "    <tr>\n",
       "      <th>5</th>\n",
       "      <td>Pcp5</td>\n",
       "      <td>2024-04-29 09:10:45</td>\n",
       "      <td></td>\n",
       "      <td>Cr9</td>\n",
       "      <td>38</td>\n",
       "      <td>357741.9</td>\n",
       "    </tr>\n",
       "    <tr>\n",
       "      <th>6</th>\n",
       "      <td>Pcp4</td>\n",
       "      <td>2024-04-29 09:25:16</td>\n",
       "      <td></td>\n",
       "      <td>Cr7</td>\n",
       "      <td>48</td>\n",
       "      <td>453203.8</td>\n",
       "    </tr>\n",
       "    <tr>\n",
       "      <th>7</th>\n",
       "      <td>Pcp7</td>\n",
       "      <td>2024-04-29 09:29:57</td>\n",
       "      <td></td>\n",
       "      <td>Cr10</td>\n",
       "      <td>61</td>\n",
       "      <td>574906.1</td>\n",
       "    </tr>\n",
       "    <tr>\n",
       "      <th>8</th>\n",
       "      <td>Pcp1</td>\n",
       "      <td>2024-04-29 09:31:44</td>\n",
       "      <td></td>\n",
       "      <td>Cr16</td>\n",
       "      <td>64</td>\n",
       "      <td>600776.4</td>\n",
       "    </tr>\n",
       "    <tr>\n",
       "      <th>9</th>\n",
       "      <td>Pcp10</td>\n",
       "      <td>2024-04-29 10:32:00</td>\n",
       "      <td></td>\n",
       "      <td>Cr18</td>\n",
       "      <td>40</td>\n",
       "      <td>373283.7</td>\n",
       "    </tr>\n",
       "  </tbody>\n",
       "</table>\n",
       "</div>"
      ],
      "text/plain": [
       "  Object_id            Timestamp Ocel_changed_field CargoID Num of trucks  \\\n",
       "0      Pcp3  2024-04-29 08:12:32                        Cr1            44   \n",
       "1      Pcp9  2024-04-29 08:39:46                       Cr14            28   \n",
       "2      Pcp6  2024-04-29 08:46:20                       Cr17            40   \n",
       "3      Pcp2  2024-04-29 09:07:13                       Cr11            60   \n",
       "4      Pcp8  2024-04-29 09:07:35                        Cr4            68   \n",
       "5      Pcp5  2024-04-29 09:10:45                        Cr9            38   \n",
       "6      Pcp4  2024-04-29 09:25:16                        Cr7            48   \n",
       "7      Pcp7  2024-04-29 09:29:57                       Cr10            61   \n",
       "8      Pcp1  2024-04-29 09:31:44                       Cr16            64   \n",
       "9     Pcp10  2024-04-29 10:32:00                       Cr18            40   \n",
       "\n",
       "  Total pickup weight  \n",
       "0            413013.5  \n",
       "1            261674.3  \n",
       "2            372842.9  \n",
       "3            569072.7  \n",
       "4            639757.5  \n",
       "5            357741.9  \n",
       "6            453203.8  \n",
       "7            574906.1  \n",
       "8            600776.4  \n",
       "9            373283.7  "
      ]
     },
     "execution_count": 66,
     "metadata": {},
     "output_type": "execute_result"
    }
   ],
   "source": [
    "pickupplan_df"
   ]
  },
  {
   "cell_type": "code",
   "execution_count": 67,
   "id": "ca4e6421",
   "metadata": {},
   "outputs": [],
   "source": [
    "pickupplan_df.to_csv('OCEL_PickupPlan.csv', index = False)"
   ]
  },
  {
   "cell_type": "markdown",
   "id": "322334be",
   "metadata": {},
   "source": [
    "### Object: Cargo"
   ]
  },
  {
   "cell_type": "code",
   "execution_count": 68,
   "id": "11e3dd1d",
   "metadata": {},
   "outputs": [],
   "source": [
    "cargo_df = pd.read_csv('object_Cargo.csv')\n",
    "cargo_df = cargo_df['ocel_id;ocel_time;ocel_changed_field;Cargo Type;Cargo stock weight(scheduled);Silo ID'].str.split(';', expand=True)\n",
    "cargo_df.columns = ['ocel_id','ocel_time','ocel_changed_field','Cargo Type','Cargo stock weight(scheduled)','Silo ID']\n",
    "cargo_df.rename(columns={'ocel_id': 'Object_id', 'ocel_time': 'Timestamp','ocel_changed_field': 'Ocel_changed_field'}, inplace=True)"
   ]
  },
  {
   "cell_type": "code",
   "execution_count": 69,
   "id": "8eafe5d3",
   "metadata": {},
   "outputs": [],
   "source": [
    "cargo_df.to_csv('OCEL_Cargo.csv', index = False)"
   ]
  },
  {
   "cell_type": "markdown",
   "id": "cfc76d52",
   "metadata": {},
   "source": [
    "### Object: Silo"
   ]
  },
  {
   "cell_type": "code",
   "execution_count": 70,
   "id": "0fa5366e",
   "metadata": {},
   "outputs": [],
   "source": [
    "silo_df = pd.read_csv('object_Silo.csv')\n",
    "silo_df = silo_df['ocel_id;ocel_time;ocel_changed_field;Silo Status;Temperature;Humidity;Silo Temperature;Grain Temperature'].str.split(';', expand=True)\n",
    "silo_df.columns = ['ocel_id','ocel_time','ocel_changed_field','Silo Status','Temperature','Humidity','Silo Temperature','Grain Temperature']\n",
    "silo_df.rename(columns={'ocel_id': 'Object_id', 'ocel_time': 'Timestamp','ocel_changed_field': 'Ocel_changed_field'}, inplace=True)"
   ]
  },
  {
   "cell_type": "code",
   "execution_count": 71,
   "id": "68aae87d",
   "metadata": {},
   "outputs": [],
   "source": [
    "silo_df.to_csv('OCEL_Silo.csv', index = False)"
   ]
  },
  {
   "cell_type": "code",
   "execution_count": null,
   "id": "18fce6be",
   "metadata": {},
   "outputs": [],
   "source": []
  },
  {
   "cell_type": "code",
   "execution_count": null,
   "id": "77a798dd",
   "metadata": {},
   "outputs": [],
   "source": []
  }
 ],
 "metadata": {
  "kernelspec": {
   "display_name": "Python 3 (ipykernel)",
   "language": "python",
   "name": "python3"
  },
  "language_info": {
   "codemirror_mode": {
    "name": "ipython",
    "version": 3
   },
   "file_extension": ".py",
   "mimetype": "text/x-python",
   "name": "python",
   "nbconvert_exporter": "python",
   "pygments_lexer": "ipython3",
   "version": "3.9.7"
  },
  "vp": {
   "vp_config_version": "1.0.0",
   "vp_menu_width": 273,
   "vp_note_display": false,
   "vp_note_width": 0,
   "vp_position": {
    "width": 278
   },
   "vp_section_display": false,
   "vp_signature": "VisualPython"
  }
 },
 "nbformat": 4,
 "nbformat_minor": 5
}
