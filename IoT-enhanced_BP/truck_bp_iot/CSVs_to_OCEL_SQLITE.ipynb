{
 "cells": [
  {
   "cell_type": "code",
   "execution_count": 1,
   "id": "58abd9d1",
   "metadata": {},
   "outputs": [],
   "source": [
    "import pandas as pd\n",
    "import sqlite3\n",
    "import glob\n",
    "import os"
   ]
  },
  {
   "cell_type": "code",
   "execution_count": 2,
   "id": "c7da3dd2",
   "metadata": {},
   "outputs": [],
   "source": [
    "eventTypeTableFilenames = [fn for fn in glob.glob('event_*.csv') \n",
    "                           if not fn == \"event_map_type.csv\" and not fn == \"event_object.csv\"]\n",
    "objectTypeTableFilenames =  [fn for fn in glob.glob('object_*.csv') \n",
    "                             if not fn == \"object_map_type.csv\" and not fn == \"object_object.csv\"]\n",
    "\n",
    "TABLES = dict()\n",
    "\n",
    "TABLES[\"event\"] = pd.read_csv(\"event.csv\", sep=\";\")\n",
    "TABLES[\"event_map_type\"] = pd.read_csv(\"event_map_type.csv\", sep=\";\")\n",
    "TABLES[\"event_object\"] = pd.read_csv(\"event_object.csv\", sep=\";\")\n",
    "TABLES[\"object\"] = pd.read_csv(\"object.csv\", sep=\";\")\n",
    "TABLES[\"object_object\"] = pd.read_csv(\"object_object.csv\", sep=\";\")\n",
    "TABLES[\"object_map_type\"] = pd.read_csv(\"object_map_type.csv\", sep=\";\")\n",
    "\n",
    "for fn in eventTypeTableFilenames:\n",
    "    table_name = fn.split(\".\")[0]\n",
    "    table = pd.read_csv(fn, sep=\";\")\n",
    "    TABLES[table_name] = table\n",
    "    \n",
    "for fn in objectTypeTableFilenames:\n",
    "    table_name = fn.split(\".\")[0]\n",
    "    table = pd.read_csv(fn, sep=\";\")\n",
    "    TABLES[table_name] = table"
   ]
  },
  {
   "cell_type": "code",
   "execution_count": 3,
   "id": "66bd7e10",
   "metadata": {},
   "outputs": [],
   "source": [
    "sql_path = \"CargoPickup_IoT.sqlite\"\n",
    "if os.path.exists(sql_path):\n",
    "    os.remove(sql_path)"
   ]
  },
  {
   "cell_type": "code",
   "execution_count": 4,
   "id": "400de6cd",
   "metadata": {},
   "outputs": [],
   "source": [
    "conn = sqlite3.connect(sql_path)\n",
    "for tn, df in TABLES.items():\n",
    "    df.to_sql(tn, conn, index=False)\n",
    "conn.close()"
   ]
  },
  {
   "cell_type": "code",
   "execution_count": 5,
   "id": "84ddf81e",
   "metadata": {},
   "outputs": [],
   "source": [
    "# Connect to your SQLite database\n",
    "conn = sqlite3.connect(\"CargoPickup_IoT.sqlite\")\n",
    "cursor = conn.cursor()\n",
    "\n",
    "# Create a new table without duplicates\n",
    "cursor.execute('''CREATE TABLE IF NOT EXISTS object_object_no_duplicates AS\n",
    "                  SELECT DISTINCT * FROM object_object''')\n",
    "\n",
    "# Drop the original table\n",
    "cursor.execute('DROP TABLE IF EXISTS object_object')\n",
    "\n",
    "# Rename the new table to the original table name\n",
    "cursor.execute('ALTER TABLE object_object_no_duplicates RENAME TO object_object')\n",
    "\n",
    "# Commit changes and close the connection\n",
    "conn.commit()\n",
    "conn.close()"
   ]
  },
  {
   "cell_type": "code",
   "execution_count": 6,
   "id": "3e26d177",
   "metadata": {
    "scrolled": true
   },
   "outputs": [
    {
     "name": "stderr",
     "output_type": "stream",
     "text": [
      "C:\\Users\\n9810200\\Anaconda3\\lib\\site-packages\\pm4py\\objects\\ocel\\importer\\sqlite\\variants\\ocel20.py:70: UserWarning: There are unsatisfied OCEL 2.0 constraints in the given relational database: ['const_2_existence_object_type_tables_map_obj_types', 'const_3_existence_event_type_tables_map_ev_types', 'const_14_primary_key_object_event_map_type_tables', 'const_15_primary_key_object_event_tables', 'const_16_primary_key_event_object_table', 'const_17_primary_key_object_object_table', 'const_18_primary_key_event_type_spec_tables', 'const_19_foreign_key_event', 'const_20_foreign_key_object', 'const_21_foreign_key_event_object', 'const_22_foreign_key_object_object', 'const_23_foreign_key_event_type_specific', 'const_24_foreign_key_object_type_specific']\n",
      "  warnings.warn(\"There are unsatisfied OCEL 2.0 constraints in the given relational database: \"+str(unsatisfied))\n",
      "C:\\Users\\n9810200\\Anaconda3\\lib\\site-packages\\pm4py\\objects\\log\\util\\dataframe_utils.py:183: SettingWithCopyWarning: \n",
      "A value is trying to be set on a copy of a slice from a DataFrame.\n",
      "Try using .loc[row_indexer,col_indexer] = value instead\n",
      "\n",
      "See the caveats in the documentation: https://pandas.pydata.org/pandas-docs/stable/user_guide/indexing.html#returning-a-view-versus-a-copy\n",
      "  df[col] = pandas_utils.dataframe_column_string_to_datetime(df[col], format=timest_format, utc=True)\n",
      "C:\\Users\\n9810200\\Anaconda3\\lib\\site-packages\\pm4py\\objects\\log\\util\\dataframe_utils.py:195: SettingWithCopyWarning: \n",
      "A value is trying to be set on a copy of a slice from a DataFrame.\n",
      "Try using .loc[row_indexer,col_indexer] = value instead\n",
      "\n",
      "See the caveats in the documentation: https://pandas.pydata.org/pandas-docs/stable/user_guide/indexing.html#returning-a-view-versus-a-copy\n",
      "  df[col] = strpfromiso.fix_dataframe_column(df[col])\n",
      "C:\\Users\\n9810200\\Anaconda3\\lib\\site-packages\\pm4py\\objects\\ocel\\importer\\sqlite\\variants\\ocel20.py:164: SettingWithCopyWarning: \n",
      "A value is trying to be set on a copy of a slice from a DataFrame.\n",
      "Try using .loc[row_indexer,col_indexer] = value instead\n",
      "\n",
      "See the caveats in the documentation: https://pandas.pydata.org/pandas-docs/stable/user_guide/indexing.html#returning-a-view-versus-a-copy\n",
      "  object_changes[internal_index] = object_changes.index\n"
     ]
    },
    {
     "data": {
      "text/plain": [
       "Object-Centric Event Log (number of events: 3611, number of objects: 80, number of activities: 13, number of object types: 4, events-objects relationships: 3621)\n",
       "Activities occurrences: {'Assign Truck': 491, 'Enter the port': 491, 'Weigh the Empty Truck': 491, 'Check Empty Truck Weight Abnormality': 491, 'Fail to Weigh': 300, 'Arrive at the Silo': 191, 'Determine the Continuance of the Pickup': 191, 'Load Truck': 191, 'Weigh the Loaded Truck': 191, 'Input the Tally Sheet': 191, 'Print the Weighing Ticket': 191, 'Evaluate the Truck Exit': 191, 'Lodge Pickup Plan': 10}\n",
       "Object types occurrences (number of objects): {'Truck': 50, 'Cargo': 10, 'Pickup Plan': 10, 'Silo': 10}\n",
       "Please use <THIS>.get_extended_table() to get a dataframe representation of the events related to the objects."
      ]
     },
     "execution_count": 6,
     "metadata": {},
     "output_type": "execute_result"
    }
   ],
   "source": [
    "import pm4py\n",
    "\n",
    "ocel = pm4py.read_ocel2_sqlite(\"CargoPickup_IoT.sqlite\")\n",
    "ocel"
   ]
  },
  {
   "cell_type": "code",
   "execution_count": 7,
   "id": "7c882b69",
   "metadata": {},
   "outputs": [
    {
     "data": {
      "text/plain": [
       "\"Object-Centric Event Log (number of events: 3611, number of objects: 80, number of activities: 13, number of object types: 4, events-objects relationships: 3621)\\nActivities occurrences: {'Assign Truck': 491, 'Enter the port': 491, 'Weigh the Empty Truck': 491, 'Check Empty Truck Weight Abnormality': 491, 'Fail to Weigh': 300, 'Arrive at the Silo': 191, 'Determine the Continuance of the Pickup': 191, 'Load Truck': 191, 'Weigh the Loaded Truck': 191, 'Input the Tally Sheet': 191, 'Print the Weighing Ticket': 191, 'Evaluate the Truck Exit': 191, 'Lodge Pickup Plan': 10}\\nObject types occurrences (number of objects): {'Truck': 50, 'Cargo': 10, 'Pickup Plan': 10, 'Silo': 10}\\nPlease use <THIS>.get_extended_table() to get a dataframe representation of the events related to the objects.\""
      ]
     },
     "execution_count": 7,
     "metadata": {},
     "output_type": "execute_result"
    }
   ],
   "source": [
    "ocel.get_summary()"
   ]
  },
  {
   "cell_type": "markdown",
   "id": "8ae5860c",
   "metadata": {},
   "source": [
    "### Basic Statistics"
   ]
  },
  {
   "cell_type": "markdown",
   "id": "75f4e236",
   "metadata": {},
   "source": [
    "#### E2O table"
   ]
  },
  {
   "cell_type": "code",
   "execution_count": 8,
   "id": "4d1d9663",
   "metadata": {},
   "outputs": [],
   "source": [
    "e2o_df = pd.read_csv('event_object.csv')\n",
    "e2o_df = e2o_df['ocel_event_id;ocel_object_id;ocel_qualifier'].str.split(';', expand=True)\n",
    "e2o_df.columns = ['ocel_event_id', 'ocel_object_id', 'ocel_qualifier']"
   ]
  },
  {
   "cell_type": "code",
   "execution_count": 9,
   "id": "6bf2db97",
   "metadata": {},
   "outputs": [
    {
     "data": {
      "text/plain": [
       "3621"
      ]
     },
     "execution_count": 9,
     "metadata": {},
     "output_type": "execute_result"
    }
   ],
   "source": [
    "len(e2o_df)"
   ]
  },
  {
   "cell_type": "markdown",
   "id": "e26753d0",
   "metadata": {},
   "source": [
    "#### O2O table"
   ]
  },
  {
   "cell_type": "code",
   "execution_count": 10,
   "id": "f44c3639",
   "metadata": {},
   "outputs": [],
   "source": [
    "o2o_df = pd.read_csv('object_object.csv')\n",
    "o2o_df = o2o_df['ocel_source_id;ocel_target_id;ocel_qualifier;ocel_time'].str.split(';', expand=True)\n",
    "o2o_df.columns = ['ocel_source_id', 'ocel_target_id', 'ocel_qualifier','ocel_time']"
   ]
  },
  {
   "cell_type": "code",
   "execution_count": 11,
   "id": "949af22d",
   "metadata": {},
   "outputs": [
    {
     "data": {
      "text/plain": [
       "883"
      ]
     },
     "execution_count": 11,
     "metadata": {},
     "output_type": "execute_result"
    }
   ],
   "source": [
    "len(o2o_df)"
   ]
  },
  {
   "cell_type": "markdown",
   "id": "09953fba",
   "metadata": {},
   "source": [
    "#### IoT2E table"
   ]
  },
  {
   "cell_type": "code",
   "execution_count": 12,
   "id": "3101b6c8",
   "metadata": {},
   "outputs": [],
   "source": [
    "e2IoTo_df = pd.read_csv('event_IoTobject.csv')\n",
    "e2IoTo_df = e2IoTo_df['ocel_event_id;ocel_IoT_object_id;ocel_qualifier'].str.split(';', expand=True)\n",
    "e2IoTo_df.columns = ['ocel_event_id', 'ocel_IoT_object_id', 'ocel_qualifier']"
   ]
  },
  {
   "cell_type": "code",
   "execution_count": 13,
   "id": "6d97ee80",
   "metadata": {},
   "outputs": [
    {
     "data": {
      "text/plain": [
       "2619"
      ]
     },
     "execution_count": 13,
     "metadata": {},
     "output_type": "execute_result"
    }
   ],
   "source": [
    "len(e2IoTo_df)"
   ]
  },
  {
   "cell_type": "markdown",
   "id": "25cff173",
   "metadata": {},
   "source": [
    "#### IoT2O table"
   ]
  },
  {
   "cell_type": "code",
   "execution_count": 14,
   "id": "4b8b0331",
   "metadata": {},
   "outputs": [],
   "source": [
    "o2IoTo_df = pd.read_csv('object_IoTobject.csv')\n",
    "o2IoTo_df = o2IoTo_df['ocel_IoTobject_id;ocel_object_id;ocel_qualifier;ocel_time'].str.split(';', expand=True)\n",
    "o2IoTo_df.columns = ['ocel_IoTobject_id', 'ocel_object_id', 'ocel_qualifier','ocel_time']"
   ]
  },
  {
   "cell_type": "code",
   "execution_count": 15,
   "id": "6f72c069",
   "metadata": {},
   "outputs": [
    {
     "data": {
      "text/plain": [
       "1637"
      ]
     },
     "execution_count": 15,
     "metadata": {},
     "output_type": "execute_result"
    }
   ],
   "source": [
    "len(o2IoTo_df)"
   ]
  },
  {
   "cell_type": "code",
   "execution_count": null,
   "id": "bff855d1",
   "metadata": {},
   "outputs": [],
   "source": []
  }
 ],
 "metadata": {
  "kernelspec": {
   "display_name": "Python 3 (ipykernel)",
   "language": "python",
   "name": "python3"
  },
  "language_info": {
   "codemirror_mode": {
    "name": "ipython",
    "version": 3
   },
   "file_extension": ".py",
   "mimetype": "text/x-python",
   "name": "python",
   "nbconvert_exporter": "python",
   "pygments_lexer": "ipython3",
   "version": "3.9.7"
  },
  "vp": {
   "vp_config_version": "1.0.0",
   "vp_menu_width": 273,
   "vp_note_display": false,
   "vp_note_width": 0,
   "vp_position": {
    "width": 278
   },
   "vp_section_display": false,
   "vp_signature": "VisualPython"
  }
 },
 "nbformat": 4,
 "nbformat_minor": 5
}
