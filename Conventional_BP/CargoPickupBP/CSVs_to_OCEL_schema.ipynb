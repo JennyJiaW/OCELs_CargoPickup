{
 "cells": [
  {
   "cell_type": "code",
   "execution_count": 1,
   "id": "70a03f05",
   "metadata": {},
   "outputs": [],
   "source": [
    "import pandas as pd"
   ]
  },
  {
   "cell_type": "markdown",
   "id": "fad94e47",
   "metadata": {},
   "source": [
    "#### Event: AssignTruck"
   ]
  },
  {
   "cell_type": "code",
   "execution_count": 2,
   "id": "10509fc9",
   "metadata": {},
   "outputs": [],
   "source": [
    "event1_df = pd.read_csv('event_AssignTrucks.csv')\n",
    "event1_df = event1_df['ocel_id;ocel_time'].str.split(';', expand=True)\n",
    "event1_df.columns = ['ocel_id', 'ocel_time']"
   ]
  },
  {
   "cell_type": "code",
   "execution_count": 3,
   "id": "8609e10e",
   "metadata": {},
   "outputs": [
    {
     "data": {
      "text/html": [
       "<div>\n",
       "<style scoped>\n",
       "    .dataframe tbody tr th:only-of-type {\n",
       "        vertical-align: middle;\n",
       "    }\n",
       "\n",
       "    .dataframe tbody tr th {\n",
       "        vertical-align: top;\n",
       "    }\n",
       "\n",
       "    .dataframe thead th {\n",
       "        text-align: right;\n",
       "    }\n",
       "</style>\n",
       "<table border=\"1\" class=\"dataframe\">\n",
       "  <thead>\n",
       "    <tr style=\"text-align: right;\">\n",
       "      <th></th>\n",
       "      <th>ocel_id</th>\n",
       "      <th>ocel_time</th>\n",
       "    </tr>\n",
       "  </thead>\n",
       "  <tbody>\n",
       "    <tr>\n",
       "      <th>0</th>\n",
       "      <td>assign_trs_Pcp6</td>\n",
       "      <td>2024-05-01 10:19:54</td>\n",
       "    </tr>\n",
       "    <tr>\n",
       "      <th>1</th>\n",
       "      <td>assign_trs_Pcp6</td>\n",
       "      <td>2024-05-01 10:25:53</td>\n",
       "    </tr>\n",
       "    <tr>\n",
       "      <th>2</th>\n",
       "      <td>assign_trs_Pcp6</td>\n",
       "      <td>2024-05-01 10:26:40</td>\n",
       "    </tr>\n",
       "    <tr>\n",
       "      <th>3</th>\n",
       "      <td>assign_trs_Pcp6</td>\n",
       "      <td>2024-05-01 10:32:05</td>\n",
       "    </tr>\n",
       "    <tr>\n",
       "      <th>4</th>\n",
       "      <td>assign_trs_Pcp1</td>\n",
       "      <td>2024-05-01 10:32:08</td>\n",
       "    </tr>\n",
       "  </tbody>\n",
       "</table>\n",
       "</div>"
      ],
      "text/plain": [
       "           ocel_id            ocel_time\n",
       "0  assign_trs_Pcp6  2024-05-01 10:19:54\n",
       "1  assign_trs_Pcp6  2024-05-01 10:25:53\n",
       "2  assign_trs_Pcp6  2024-05-01 10:26:40\n",
       "3  assign_trs_Pcp6  2024-05-01 10:32:05\n",
       "4  assign_trs_Pcp1  2024-05-01 10:32:08"
      ]
     },
     "execution_count": 3,
     "metadata": {},
     "output_type": "execute_result"
    }
   ],
   "source": [
    "event1_df.head()"
   ]
  },
  {
   "cell_type": "code",
   "execution_count": 4,
   "id": "96c8cd72",
   "metadata": {},
   "outputs": [
    {
     "data": {
      "text/plain": [
       "491"
      ]
     },
     "execution_count": 4,
     "metadata": {},
     "output_type": "execute_result"
    }
   ],
   "source": [
    "len(event1_df)"
   ]
  },
  {
   "cell_type": "code",
   "execution_count": 5,
   "id": "381ec6bd",
   "metadata": {},
   "outputs": [
    {
     "data": {
      "text/plain": [
       "491"
      ]
     },
     "execution_count": 5,
     "metadata": {},
     "output_type": "execute_result"
    }
   ],
   "source": [
    "event1_df2 = event1_df.drop_duplicates()\n",
    "len(event1_df2)"
   ]
  },
  {
   "cell_type": "markdown",
   "id": "c5827eb9",
   "metadata": {},
   "source": [
    "#### Event: EvaluateTruckExit"
   ]
  },
  {
   "cell_type": "code",
   "execution_count": 6,
   "id": "dc5229d7",
   "metadata": {},
   "outputs": [
    {
     "data": {
      "text/plain": [
       "491"
      ]
     },
     "execution_count": 6,
     "metadata": {},
     "output_type": "execute_result"
    }
   ],
   "source": [
    "event2_df = pd.read_csv('event_EvaluateTruckExit.csv')\n",
    "event2_df = event2_df['ocel_id;ocel_time'].str.split(';', expand=True)\n",
    "event2_df.columns = ['ocel_id', 'ocel_time']\n",
    "len(event2_df)"
   ]
  },
  {
   "cell_type": "code",
   "execution_count": 7,
   "id": "b2564fef",
   "metadata": {},
   "outputs": [
    {
     "data": {
      "text/plain": [
       "491"
      ]
     },
     "execution_count": 7,
     "metadata": {},
     "output_type": "execute_result"
    }
   ],
   "source": [
    "event2_df2 = event2_df.drop_duplicates()\n",
    "len(event2_df2)"
   ]
  },
  {
   "cell_type": "markdown",
   "id": "f0464742",
   "metadata": {},
   "source": [
    "#### Event: InputTallySheet"
   ]
  },
  {
   "cell_type": "code",
   "execution_count": 8,
   "id": "73e83e27",
   "metadata": {},
   "outputs": [
    {
     "data": {
      "text/plain": [
       "491"
      ]
     },
     "execution_count": 8,
     "metadata": {},
     "output_type": "execute_result"
    }
   ],
   "source": [
    "event3_df = pd.read_csv('event_InputTallySheet.csv')\n",
    "event3_df = event3_df['ocel_id;ocel_time'].str.split(';', expand=True)\n",
    "event3_df.columns = ['ocel_id', 'ocel_time']\n",
    "len(event3_df)"
   ]
  },
  {
   "cell_type": "code",
   "execution_count": 9,
   "id": "6108e30b",
   "metadata": {},
   "outputs": [
    {
     "data": {
      "text/plain": [
       "491"
      ]
     },
     "execution_count": 9,
     "metadata": {},
     "output_type": "execute_result"
    }
   ],
   "source": [
    "event3_df2 = event3_df.drop_duplicates()\n",
    "len(event3_df2)"
   ]
  },
  {
   "cell_type": "markdown",
   "id": "56e650aa",
   "metadata": {},
   "source": [
    "#### Event: LoadTruck"
   ]
  },
  {
   "cell_type": "code",
   "execution_count": 10,
   "id": "98b2d1da",
   "metadata": {},
   "outputs": [
    {
     "data": {
      "text/plain": [
       "491"
      ]
     },
     "execution_count": 10,
     "metadata": {},
     "output_type": "execute_result"
    }
   ],
   "source": [
    "event4_df = pd.read_csv('event_LoadTruck.csv')\n",
    "event4_df = event4_df['ocel_id;ocel_time'].str.split(';', expand=True)\n",
    "event4_df.columns = ['ocel_id', 'ocel_time']\n",
    "len(event4_df)"
   ]
  },
  {
   "cell_type": "code",
   "execution_count": 11,
   "id": "1d8442cf",
   "metadata": {},
   "outputs": [
    {
     "data": {
      "text/plain": [
       "491"
      ]
     },
     "execution_count": 11,
     "metadata": {},
     "output_type": "execute_result"
    }
   ],
   "source": [
    "event4_df2 = event4_df.drop_duplicates()\n",
    "len(event4_df2)"
   ]
  },
  {
   "cell_type": "markdown",
   "id": "2e1461fb",
   "metadata": {},
   "source": [
    "#### Event: PrintWeighingTicket"
   ]
  },
  {
   "cell_type": "code",
   "execution_count": 12,
   "id": "6f34425b",
   "metadata": {},
   "outputs": [
    {
     "data": {
      "text/plain": [
       "491"
      ]
     },
     "execution_count": 12,
     "metadata": {},
     "output_type": "execute_result"
    }
   ],
   "source": [
    "event5_df = pd.read_csv('event_PrintWeighingTicket.csv')\n",
    "event5_df = event5_df['ocel_id;ocel_time'].str.split(';', expand=True)\n",
    "event5_df.columns = ['ocel_id', 'ocel_time']\n",
    "len(event5_df)"
   ]
  },
  {
   "cell_type": "code",
   "execution_count": 13,
   "id": "99013e60",
   "metadata": {},
   "outputs": [
    {
     "data": {
      "text/plain": [
       "491"
      ]
     },
     "execution_count": 13,
     "metadata": {},
     "output_type": "execute_result"
    }
   ],
   "source": [
    "event5_df2 = event5_df.drop_duplicates()\n",
    "len(event5_df2)"
   ]
  },
  {
   "cell_type": "markdown",
   "id": "84250ec9",
   "metadata": {},
   "source": [
    "#### Event: WeighEmptyTruck"
   ]
  },
  {
   "cell_type": "code",
   "execution_count": 14,
   "id": "b8c3a59e",
   "metadata": {},
   "outputs": [
    {
     "data": {
      "text/plain": [
       "491"
      ]
     },
     "execution_count": 14,
     "metadata": {},
     "output_type": "execute_result"
    }
   ],
   "source": [
    "event6_df = pd.read_csv('event_WeighEmptyTruck.csv')\n",
    "event6_df = event6_df['ocel_id;ocel_time'].str.split(';', expand=True)\n",
    "event6_df.columns = ['ocel_id', 'ocel_time']\n",
    "len(event6_df)"
   ]
  },
  {
   "cell_type": "code",
   "execution_count": 15,
   "id": "c46d49c9",
   "metadata": {},
   "outputs": [
    {
     "data": {
      "text/plain": [
       "491"
      ]
     },
     "execution_count": 15,
     "metadata": {},
     "output_type": "execute_result"
    }
   ],
   "source": [
    "event6_df2 = event6_df.drop_duplicates()\n",
    "len(event6_df2)"
   ]
  },
  {
   "cell_type": "markdown",
   "id": "534384a3",
   "metadata": {},
   "source": [
    "#### Event: WeighLoadedTruck"
   ]
  },
  {
   "cell_type": "code",
   "execution_count": 16,
   "id": "e87d3032",
   "metadata": {},
   "outputs": [
    {
     "data": {
      "text/plain": [
       "491"
      ]
     },
     "execution_count": 16,
     "metadata": {},
     "output_type": "execute_result"
    }
   ],
   "source": [
    "event7_df = pd.read_csv('event_WeighLoadedTruck.csv')\n",
    "event7_df = event7_df['ocel_id;ocel_time'].str.split(';', expand=True)\n",
    "event7_df.columns = ['ocel_id', 'ocel_time']\n",
    "len(event7_df)"
   ]
  },
  {
   "cell_type": "code",
   "execution_count": 17,
   "id": "58d63e79",
   "metadata": {},
   "outputs": [
    {
     "data": {
      "text/plain": [
       "491"
      ]
     },
     "execution_count": 17,
     "metadata": {},
     "output_type": "execute_result"
    }
   ],
   "source": [
    "event7_df2 = event7_df.drop_duplicates()\n",
    "len(event7_df2)"
   ]
  },
  {
   "cell_type": "markdown",
   "id": "f4b31b61",
   "metadata": {},
   "source": [
    "#### Event: LodgePickupPlan"
   ]
  },
  {
   "cell_type": "code",
   "execution_count": 18,
   "id": "c373fe5b",
   "metadata": {},
   "outputs": [
    {
     "data": {
      "text/plain": [
       "10"
      ]
     },
     "execution_count": 18,
     "metadata": {},
     "output_type": "execute_result"
    }
   ],
   "source": [
    "event8_df = pd.read_csv('event_LodgePickupPlan.csv')\n",
    "event8_df = event8_df['ocel_id;ocel_time'].str.split(';', expand=True)\n",
    "event8_df.columns = ['ocel_id', 'ocel_time']\n",
    "len(event8_df)"
   ]
  },
  {
   "cell_type": "code",
   "execution_count": 19,
   "id": "59ed3741",
   "metadata": {},
   "outputs": [
    {
     "data": {
      "text/plain": [
       "10"
      ]
     },
     "execution_count": 19,
     "metadata": {},
     "output_type": "execute_result"
    }
   ],
   "source": [
    "event8_df2 = event8_df.drop_duplicates()\n",
    "len(event8_df2)"
   ]
  },
  {
   "cell_type": "markdown",
   "id": "ff317592",
   "metadata": {},
   "source": [
    "##### Concatenate all event tables"
   ]
  },
  {
   "cell_type": "code",
   "execution_count": 20,
   "id": "ea443d08",
   "metadata": {},
   "outputs": [],
   "source": [
    "combined_events = pd.concat([event1_df2, event2_df2, event3_df2, event4_df2, event5_df2, event6_df2, event7_df2, event8_df2])"
   ]
  },
  {
   "cell_type": "code",
   "execution_count": 21,
   "id": "f840eb2f",
   "metadata": {},
   "outputs": [
    {
     "data": {
      "text/plain": [
       "3447"
      ]
     },
     "execution_count": 21,
     "metadata": {},
     "output_type": "execute_result"
    }
   ],
   "source": [
    "len(combined_events)"
   ]
  },
  {
   "cell_type": "code",
   "execution_count": 22,
   "id": "c43deadc",
   "metadata": {},
   "outputs": [
    {
     "data": {
      "text/plain": [
       "3447"
      ]
     },
     "execution_count": 22,
     "metadata": {},
     "output_type": "execute_result"
    }
   ],
   "source": [
    "sorted_events = combined_events.sort_values(by='ocel_time')\n",
    "len(sorted_events)"
   ]
  },
  {
   "cell_type": "code",
   "execution_count": 23,
   "id": "af93ab18",
   "metadata": {},
   "outputs": [
    {
     "data": {
      "text/html": [
       "<div>\n",
       "<style scoped>\n",
       "    .dataframe tbody tr th:only-of-type {\n",
       "        vertical-align: middle;\n",
       "    }\n",
       "\n",
       "    .dataframe tbody tr th {\n",
       "        vertical-align: top;\n",
       "    }\n",
       "\n",
       "    .dataframe thead th {\n",
       "        text-align: right;\n",
       "    }\n",
       "</style>\n",
       "<table border=\"1\" class=\"dataframe\">\n",
       "  <thead>\n",
       "    <tr style=\"text-align: right;\">\n",
       "      <th></th>\n",
       "      <th>ocel_id</th>\n",
       "      <th>ocel_time</th>\n",
       "    </tr>\n",
       "  </thead>\n",
       "  <tbody>\n",
       "    <tr>\n",
       "      <th>0</th>\n",
       "      <td>Lodge_Pcp9</td>\n",
       "      <td>2024-04-29 08:12:32</td>\n",
       "    </tr>\n",
       "    <tr>\n",
       "      <th>1</th>\n",
       "      <td>Lodge_Pcp6</td>\n",
       "      <td>2024-04-29 08:39:46</td>\n",
       "    </tr>\n",
       "    <tr>\n",
       "      <th>2</th>\n",
       "      <td>Lodge_Pcp1</td>\n",
       "      <td>2024-04-29 08:46:20</td>\n",
       "    </tr>\n",
       "    <tr>\n",
       "      <th>3</th>\n",
       "      <td>Lodge_Pcp8</td>\n",
       "      <td>2024-04-29 09:07:13</td>\n",
       "    </tr>\n",
       "    <tr>\n",
       "      <th>4</th>\n",
       "      <td>Lodge_Pcp3</td>\n",
       "      <td>2024-04-29 09:07:35</td>\n",
       "    </tr>\n",
       "  </tbody>\n",
       "</table>\n",
       "</div>"
      ],
      "text/plain": [
       "      ocel_id            ocel_time\n",
       "0  Lodge_Pcp9  2024-04-29 08:12:32\n",
       "1  Lodge_Pcp6  2024-04-29 08:39:46\n",
       "2  Lodge_Pcp1  2024-04-29 08:46:20\n",
       "3  Lodge_Pcp8  2024-04-29 09:07:13\n",
       "4  Lodge_Pcp3  2024-04-29 09:07:35"
      ]
     },
     "execution_count": 23,
     "metadata": {},
     "output_type": "execute_result"
    }
   ],
   "source": [
    "sorted_events.head()"
   ]
  },
  {
   "cell_type": "markdown",
   "id": "5f1a190d",
   "metadata": {},
   "source": [
    "#### event.csv "
   ]
  },
  {
   "cell_type": "code",
   "execution_count": 24,
   "id": "c69e5a6d",
   "metadata": {},
   "outputs": [
    {
     "name": "stdout",
     "output_type": "stream",
     "text": [
      "      ocel_id          ocel_type\n",
      "0  Lodge_Pcp9  Lodge Pickup Plan\n",
      "1  Lodge_Pcp6  Lodge Pickup Plan\n",
      "2  Lodge_Pcp1  Lodge Pickup Plan\n",
      "3  Lodge_Pcp8  Lodge Pickup Plan\n",
      "4  Lodge_Pcp3  Lodge Pickup Plan\n"
     ]
    }
   ],
   "source": [
    "event_df = pd.read_csv('event.csv')\n",
    "event_df = event_df['ocel_id;ocel_type'].str.split(';', expand=True)\n",
    "event_df.columns = ['ocel_id','ocel_type']\n",
    "print(event_df.head())"
   ]
  },
  {
   "cell_type": "code",
   "execution_count": 25,
   "id": "c7123c0a",
   "metadata": {},
   "outputs": [
    {
     "data": {
      "text/plain": [
       "3447"
      ]
     },
     "execution_count": 25,
     "metadata": {},
     "output_type": "execute_result"
    }
   ],
   "source": [
    "len(event_df)"
   ]
  },
  {
   "cell_type": "code",
   "execution_count": 26,
   "id": "7635f6ed",
   "metadata": {},
   "outputs": [],
   "source": [
    "events = pd.merge(sorted_events, event_df, on='ocel_id', how='inner')"
   ]
  },
  {
   "cell_type": "code",
   "execution_count": 27,
   "id": "854ddc63",
   "metadata": {
    "scrolled": false
   },
   "outputs": [
    {
     "data": {
      "text/plain": [
       "51045"
      ]
     },
     "execution_count": 27,
     "metadata": {},
     "output_type": "execute_result"
    }
   ],
   "source": [
    "len(events)"
   ]
  },
  {
   "cell_type": "code",
   "execution_count": 28,
   "id": "e19dbf34",
   "metadata": {},
   "outputs": [],
   "source": [
    "events_distinct = events.drop_duplicates()"
   ]
  },
  {
   "cell_type": "code",
   "execution_count": 29,
   "id": "d5f71375",
   "metadata": {},
   "outputs": [
    {
     "data": {
      "text/plain": [
       "3447"
      ]
     },
     "execution_count": 29,
     "metadata": {},
     "output_type": "execute_result"
    }
   ],
   "source": [
    "len(events_distinct)"
   ]
  },
  {
   "cell_type": "markdown",
   "id": "b1ee02a6",
   "metadata": {},
   "source": [
    "### Event table"
   ]
  },
  {
   "cell_type": "code",
   "execution_count": 30,
   "id": "b5ee6ac6",
   "metadata": {},
   "outputs": [
    {
     "name": "stderr",
     "output_type": "stream",
     "text": [
      "C:\\Users\\n9810200\\AppData\\Local\\Temp/ipykernel_21764/1745019848.py:1: SettingWithCopyWarning: \n",
      "A value is trying to be set on a copy of a slice from a DataFrame\n",
      "\n",
      "See the caveats in the documentation: https://pandas.pydata.org/pandas-docs/stable/user_guide/indexing.html#returning-a-view-versus-a-copy\n",
      "  events_distinct.rename(columns={'ocel_id': 'Event_id', 'ocel_type': 'Activity', 'ocel_time': 'Timestamp'}, inplace=True)\n"
     ]
    }
   ],
   "source": [
    "events_distinct.rename(columns={'ocel_id': 'Event_id', 'ocel_type': 'Activity', 'ocel_time': 'Timestamp'}, inplace=True)"
   ]
  },
  {
   "cell_type": "code",
   "execution_count": 31,
   "id": "1cb06472",
   "metadata": {},
   "outputs": [
    {
     "data": {
      "text/html": [
       "<div>\n",
       "<style scoped>\n",
       "    .dataframe tbody tr th:only-of-type {\n",
       "        vertical-align: middle;\n",
       "    }\n",
       "\n",
       "    .dataframe tbody tr th {\n",
       "        vertical-align: top;\n",
       "    }\n",
       "\n",
       "    .dataframe thead th {\n",
       "        text-align: right;\n",
       "    }\n",
       "</style>\n",
       "<table border=\"1\" class=\"dataframe\">\n",
       "  <thead>\n",
       "    <tr style=\"text-align: right;\">\n",
       "      <th></th>\n",
       "      <th>Event_id</th>\n",
       "      <th>Timestamp</th>\n",
       "      <th>Activity</th>\n",
       "    </tr>\n",
       "  </thead>\n",
       "  <tbody>\n",
       "    <tr>\n",
       "      <th>0</th>\n",
       "      <td>Lodge_Pcp9</td>\n",
       "      <td>2024-04-29 08:12:32</td>\n",
       "      <td>Lodge Pickup Plan</td>\n",
       "    </tr>\n",
       "    <tr>\n",
       "      <th>1</th>\n",
       "      <td>Lodge_Pcp6</td>\n",
       "      <td>2024-04-29 08:39:46</td>\n",
       "      <td>Lodge Pickup Plan</td>\n",
       "    </tr>\n",
       "    <tr>\n",
       "      <th>2</th>\n",
       "      <td>Lodge_Pcp1</td>\n",
       "      <td>2024-04-29 08:46:20</td>\n",
       "      <td>Lodge Pickup Plan</td>\n",
       "    </tr>\n",
       "    <tr>\n",
       "      <th>3</th>\n",
       "      <td>Lodge_Pcp8</td>\n",
       "      <td>2024-04-29 09:07:13</td>\n",
       "      <td>Lodge Pickup Plan</td>\n",
       "    </tr>\n",
       "    <tr>\n",
       "      <th>4</th>\n",
       "      <td>Lodge_Pcp3</td>\n",
       "      <td>2024-04-29 09:07:35</td>\n",
       "      <td>Lodge Pickup Plan</td>\n",
       "    </tr>\n",
       "  </tbody>\n",
       "</table>\n",
       "</div>"
      ],
      "text/plain": [
       "     Event_id            Timestamp           Activity\n",
       "0  Lodge_Pcp9  2024-04-29 08:12:32  Lodge Pickup Plan\n",
       "1  Lodge_Pcp6  2024-04-29 08:39:46  Lodge Pickup Plan\n",
       "2  Lodge_Pcp1  2024-04-29 08:46:20  Lodge Pickup Plan\n",
       "3  Lodge_Pcp8  2024-04-29 09:07:13  Lodge Pickup Plan\n",
       "4  Lodge_Pcp3  2024-04-29 09:07:35  Lodge Pickup Plan"
      ]
     },
     "execution_count": 31,
     "metadata": {},
     "output_type": "execute_result"
    }
   ],
   "source": [
    "events_distinct.head()"
   ]
  },
  {
   "cell_type": "code",
   "execution_count": 32,
   "id": "7398b858",
   "metadata": {},
   "outputs": [],
   "source": [
    "events_distinct.to_csv('OCEL_Events.csv', index = False)"
   ]
  },
  {
   "cell_type": "markdown",
   "id": "f8392983",
   "metadata": {},
   "source": [
    "### Event-to-Object relationships"
   ]
  },
  {
   "cell_type": "code",
   "execution_count": 33,
   "id": "516ef5d4",
   "metadata": {},
   "outputs": [],
   "source": [
    "e2o_df = pd.read_csv('event_object.csv')\n",
    "e2o_df = e2o_df['ocel_event_id;ocel_object_id;ocel_qualifier'].str.split(';', expand=True)\n",
    "e2o_df.columns = ['ocel_event_id', 'ocel_object_id', 'ocel_qualifier']\n",
    "e2o_df.rename(columns={'ocel_event_id': 'Event_id', 'ocel_object_id': 'Object_id', 'ocel_qualifier': 'E2O_qualifier'}, inplace=True)"
   ]
  },
  {
   "cell_type": "code",
   "execution_count": 34,
   "id": "e49ade84",
   "metadata": {},
   "outputs": [
    {
     "data": {
      "text/plain": [
       "3457"
      ]
     },
     "execution_count": 34,
     "metadata": {},
     "output_type": "execute_result"
    }
   ],
   "source": [
    "len(e2o_df)"
   ]
  },
  {
   "cell_type": "code",
   "execution_count": 35,
   "id": "9e02a1ee",
   "metadata": {},
   "outputs": [
    {
     "data": {
      "text/html": [
       "<div>\n",
       "<style scoped>\n",
       "    .dataframe tbody tr th:only-of-type {\n",
       "        vertical-align: middle;\n",
       "    }\n",
       "\n",
       "    .dataframe tbody tr th {\n",
       "        vertical-align: top;\n",
       "    }\n",
       "\n",
       "    .dataframe thead th {\n",
       "        text-align: right;\n",
       "    }\n",
       "</style>\n",
       "<table border=\"1\" class=\"dataframe\">\n",
       "  <thead>\n",
       "    <tr style=\"text-align: right;\">\n",
       "      <th></th>\n",
       "      <th>Event_id</th>\n",
       "      <th>Object_id</th>\n",
       "      <th>E2O_qualifier</th>\n",
       "    </tr>\n",
       "  </thead>\n",
       "  <tbody>\n",
       "    <tr>\n",
       "      <th>0</th>\n",
       "      <td>Lodge_Pcp9</td>\n",
       "      <td>Pcp9</td>\n",
       "      <td>lodged pickup plan</td>\n",
       "    </tr>\n",
       "    <tr>\n",
       "      <th>1</th>\n",
       "      <td>Lodge_Pcp9</td>\n",
       "      <td>Cr8</td>\n",
       "      <td>cargo scheduled to be pick up</td>\n",
       "    </tr>\n",
       "    <tr>\n",
       "      <th>2</th>\n",
       "      <td>Lodge_Pcp6</td>\n",
       "      <td>Pcp6</td>\n",
       "      <td>lodged pickup plan</td>\n",
       "    </tr>\n",
       "    <tr>\n",
       "      <th>3</th>\n",
       "      <td>Lodge_Pcp6</td>\n",
       "      <td>Cr6</td>\n",
       "      <td>cargo scheduled to be pick up</td>\n",
       "    </tr>\n",
       "    <tr>\n",
       "      <th>4</th>\n",
       "      <td>Lodge_Pcp1</td>\n",
       "      <td>Pcp1</td>\n",
       "      <td>lodged pickup plan</td>\n",
       "    </tr>\n",
       "    <tr>\n",
       "      <th>...</th>\n",
       "      <td>...</td>\n",
       "      <td>...</td>\n",
       "      <td>...</td>\n",
       "    </tr>\n",
       "    <tr>\n",
       "      <th>3452</th>\n",
       "      <td>input_tally_sheettr13</td>\n",
       "      <td>tr13</td>\n",
       "      <td>Tally Sheet for pickup plan</td>\n",
       "    </tr>\n",
       "    <tr>\n",
       "      <th>3453</th>\n",
       "      <td>eval_trs_exittr13_Pcp3</td>\n",
       "      <td>tr13</td>\n",
       "      <td>Exit evaluation for truck</td>\n",
       "    </tr>\n",
       "    <tr>\n",
       "      <th>3454</th>\n",
       "      <td>input_tally_sheettr18</td>\n",
       "      <td>tr18</td>\n",
       "      <td>Tally Sheet for pickup plan</td>\n",
       "    </tr>\n",
       "    <tr>\n",
       "      <th>3455</th>\n",
       "      <td>print_w_tickettr18</td>\n",
       "      <td>tr18</td>\n",
       "      <td>Printed weighing ticket for pickup plan</td>\n",
       "    </tr>\n",
       "    <tr>\n",
       "      <th>3456</th>\n",
       "      <td>eval_trs_exittr18_Pcp10</td>\n",
       "      <td>tr18</td>\n",
       "      <td>Exit evaluation for truck</td>\n",
       "    </tr>\n",
       "  </tbody>\n",
       "</table>\n",
       "<p>3457 rows × 3 columns</p>\n",
       "</div>"
      ],
      "text/plain": [
       "                     Event_id Object_id  \\\n",
       "0                  Lodge_Pcp9      Pcp9   \n",
       "1                  Lodge_Pcp9       Cr8   \n",
       "2                  Lodge_Pcp6      Pcp6   \n",
       "3                  Lodge_Pcp6       Cr6   \n",
       "4                  Lodge_Pcp1      Pcp1   \n",
       "...                       ...       ...   \n",
       "3452    input_tally_sheettr13      tr13   \n",
       "3453   eval_trs_exittr13_Pcp3      tr13   \n",
       "3454    input_tally_sheettr18      tr18   \n",
       "3455       print_w_tickettr18      tr18   \n",
       "3456  eval_trs_exittr18_Pcp10      tr18   \n",
       "\n",
       "                                E2O_qualifier  \n",
       "0                          lodged pickup plan  \n",
       "1               cargo scheduled to be pick up  \n",
       "2                          lodged pickup plan  \n",
       "3               cargo scheduled to be pick up  \n",
       "4                          lodged pickup plan  \n",
       "...                                       ...  \n",
       "3452              Tally Sheet for pickup plan  \n",
       "3453                Exit evaluation for truck  \n",
       "3454              Tally Sheet for pickup plan  \n",
       "3455  Printed weighing ticket for pickup plan  \n",
       "3456                Exit evaluation for truck  \n",
       "\n",
       "[3457 rows x 3 columns]"
      ]
     },
     "execution_count": 35,
     "metadata": {},
     "output_type": "execute_result"
    }
   ],
   "source": [
    "e2o_df"
   ]
  },
  {
   "cell_type": "code",
   "execution_count": 36,
   "id": "5eddba71",
   "metadata": {},
   "outputs": [],
   "source": [
    "e2o_df.to_csv('OCEL_E2O.csv', index = False)"
   ]
  },
  {
   "cell_type": "markdown",
   "id": "53f6ff36",
   "metadata": {},
   "source": [
    "### Object-to-Object relationships"
   ]
  },
  {
   "cell_type": "code",
   "execution_count": 37,
   "id": "717d6b6e",
   "metadata": {},
   "outputs": [],
   "source": [
    "o2o_df = pd.read_csv('object_object.csv')\n",
    "o2o_df = o2o_df['ocel_source_id;ocel_target_id;ocel_qualifier;ocel_time'].str.split(';', expand=True)\n",
    "o2o_df.columns = ['ocel_source_id', 'ocel_target_id', 'ocel_qualifier','ocel_time']"
   ]
  },
  {
   "cell_type": "code",
   "execution_count": 38,
   "id": "9d055ab7",
   "metadata": {},
   "outputs": [
    {
     "data": {
      "text/html": [
       "<div>\n",
       "<style scoped>\n",
       "    .dataframe tbody tr th:only-of-type {\n",
       "        vertical-align: middle;\n",
       "    }\n",
       "\n",
       "    .dataframe tbody tr th {\n",
       "        vertical-align: top;\n",
       "    }\n",
       "\n",
       "    .dataframe thead th {\n",
       "        text-align: right;\n",
       "    }\n",
       "</style>\n",
       "<table border=\"1\" class=\"dataframe\">\n",
       "  <thead>\n",
       "    <tr style=\"text-align: right;\">\n",
       "      <th></th>\n",
       "      <th>ocel_source_id</th>\n",
       "      <th>ocel_target_id</th>\n",
       "      <th>ocel_qualifier</th>\n",
       "      <th>ocel_time</th>\n",
       "    </tr>\n",
       "  </thead>\n",
       "  <tbody>\n",
       "    <tr>\n",
       "      <th>0</th>\n",
       "      <td>Pcp9</td>\n",
       "      <td>Cr8</td>\n",
       "      <td>Lodged pickup plan for cargo</td>\n",
       "      <td>2024-04-29 08:12:32</td>\n",
       "    </tr>\n",
       "    <tr>\n",
       "      <th>1</th>\n",
       "      <td>Pcp6</td>\n",
       "      <td>Cr6</td>\n",
       "      <td>Lodged pickup plan for cargo</td>\n",
       "      <td>2024-04-29 08:39:46</td>\n",
       "    </tr>\n",
       "    <tr>\n",
       "      <th>2</th>\n",
       "      <td>Pcp1</td>\n",
       "      <td>Cr16</td>\n",
       "      <td>Lodged pickup plan for cargo</td>\n",
       "      <td>2024-04-29 08:46:20</td>\n",
       "    </tr>\n",
       "    <tr>\n",
       "      <th>3</th>\n",
       "      <td>Pcp8</td>\n",
       "      <td>Cr12</td>\n",
       "      <td>Lodged pickup plan for cargo</td>\n",
       "      <td>2024-04-29 09:07:13</td>\n",
       "    </tr>\n",
       "    <tr>\n",
       "      <th>4</th>\n",
       "      <td>Pcp3</td>\n",
       "      <td>Cr20</td>\n",
       "      <td>Lodged pickup plan for cargo</td>\n",
       "      <td>2024-04-29 09:07:35</td>\n",
       "    </tr>\n",
       "    <tr>\n",
       "      <th>...</th>\n",
       "      <td>...</td>\n",
       "      <td>...</td>\n",
       "      <td>...</td>\n",
       "      <td>...</td>\n",
       "    </tr>\n",
       "    <tr>\n",
       "      <th>987</th>\n",
       "      <td>tr24</td>\n",
       "      <td>Pcp2</td>\n",
       "      <td>Dropped truck from pickup plan</td>\n",
       "      <td>2024-06-14 18:58:18</td>\n",
       "    </tr>\n",
       "    <tr>\n",
       "      <th>988</th>\n",
       "      <td>tr10</td>\n",
       "      <td>Pcp2</td>\n",
       "      <td>Dropped truck from pickup plan</td>\n",
       "      <td>2024-06-17 08:49:16</td>\n",
       "    </tr>\n",
       "    <tr>\n",
       "      <th>989</th>\n",
       "      <td>tr32</td>\n",
       "      <td>Pcp3</td>\n",
       "      <td>Dropped truck from pickup plan</td>\n",
       "      <td>2024-06-17 09:49:32</td>\n",
       "    </tr>\n",
       "    <tr>\n",
       "      <th>990</th>\n",
       "      <td>tr13</td>\n",
       "      <td>Pcp3</td>\n",
       "      <td>Dropped truck from pickup plan</td>\n",
       "      <td>2024-06-17 11:14:15</td>\n",
       "    </tr>\n",
       "    <tr>\n",
       "      <th>991</th>\n",
       "      <td>tr18</td>\n",
       "      <td>Pcp10</td>\n",
       "      <td>Dropped truck from pickup plan</td>\n",
       "      <td>2024-06-17 14:53:03</td>\n",
       "    </tr>\n",
       "  </tbody>\n",
       "</table>\n",
       "<p>992 rows × 4 columns</p>\n",
       "</div>"
      ],
      "text/plain": [
       "    ocel_source_id ocel_target_id                  ocel_qualifier  \\\n",
       "0             Pcp9            Cr8    Lodged pickup plan for cargo   \n",
       "1             Pcp6            Cr6    Lodged pickup plan for cargo   \n",
       "2             Pcp1           Cr16    Lodged pickup plan for cargo   \n",
       "3             Pcp8           Cr12    Lodged pickup plan for cargo   \n",
       "4             Pcp3           Cr20    Lodged pickup plan for cargo   \n",
       "..             ...            ...                             ...   \n",
       "987           tr24           Pcp2  Dropped truck from pickup plan   \n",
       "988           tr10           Pcp2  Dropped truck from pickup plan   \n",
       "989           tr32           Pcp3  Dropped truck from pickup plan   \n",
       "990           tr13           Pcp3  Dropped truck from pickup plan   \n",
       "991           tr18          Pcp10  Dropped truck from pickup plan   \n",
       "\n",
       "               ocel_time  \n",
       "0    2024-04-29 08:12:32  \n",
       "1    2024-04-29 08:39:46  \n",
       "2    2024-04-29 08:46:20  \n",
       "3    2024-04-29 09:07:13  \n",
       "4    2024-04-29 09:07:35  \n",
       "..                   ...  \n",
       "987  2024-06-14 18:58:18  \n",
       "988  2024-06-17 08:49:16  \n",
       "989  2024-06-17 09:49:32  \n",
       "990  2024-06-17 11:14:15  \n",
       "991  2024-06-17 14:53:03  \n",
       "\n",
       "[992 rows x 4 columns]"
      ]
     },
     "execution_count": 38,
     "metadata": {},
     "output_type": "execute_result"
    }
   ],
   "source": [
    "o2o_df"
   ]
  },
  {
   "cell_type": "code",
   "execution_count": 39,
   "id": "69f0e93d",
   "metadata": {},
   "outputs": [],
   "source": [
    "o2o_df.rename(columns={'ocel_source_id': 'Source_object_id', 'ocel_target_id': 'Target_object_id', 'ocel_qualifier': 'O2O_qualifier','ocel_time':'Timestamp'}, inplace=True)"
   ]
  },
  {
   "cell_type": "code",
   "execution_count": 40,
   "id": "214f19aa",
   "metadata": {},
   "outputs": [
    {
     "data": {
      "text/html": [
       "<div>\n",
       "<style scoped>\n",
       "    .dataframe tbody tr th:only-of-type {\n",
       "        vertical-align: middle;\n",
       "    }\n",
       "\n",
       "    .dataframe tbody tr th {\n",
       "        vertical-align: top;\n",
       "    }\n",
       "\n",
       "    .dataframe thead th {\n",
       "        text-align: right;\n",
       "    }\n",
       "</style>\n",
       "<table border=\"1\" class=\"dataframe\">\n",
       "  <thead>\n",
       "    <tr style=\"text-align: right;\">\n",
       "      <th></th>\n",
       "      <th>Source_object_id</th>\n",
       "      <th>Target_object_id</th>\n",
       "      <th>O2O_qualifier</th>\n",
       "      <th>Timestamp</th>\n",
       "    </tr>\n",
       "  </thead>\n",
       "  <tbody>\n",
       "    <tr>\n",
       "      <th>0</th>\n",
       "      <td>Pcp9</td>\n",
       "      <td>Cr8</td>\n",
       "      <td>Lodged pickup plan for cargo</td>\n",
       "      <td>2024-04-29 08:12:32</td>\n",
       "    </tr>\n",
       "    <tr>\n",
       "      <th>1</th>\n",
       "      <td>Pcp6</td>\n",
       "      <td>Cr6</td>\n",
       "      <td>Lodged pickup plan for cargo</td>\n",
       "      <td>2024-04-29 08:39:46</td>\n",
       "    </tr>\n",
       "    <tr>\n",
       "      <th>2</th>\n",
       "      <td>Pcp1</td>\n",
       "      <td>Cr16</td>\n",
       "      <td>Lodged pickup plan for cargo</td>\n",
       "      <td>2024-04-29 08:46:20</td>\n",
       "    </tr>\n",
       "    <tr>\n",
       "      <th>3</th>\n",
       "      <td>Pcp8</td>\n",
       "      <td>Cr12</td>\n",
       "      <td>Lodged pickup plan for cargo</td>\n",
       "      <td>2024-04-29 09:07:13</td>\n",
       "    </tr>\n",
       "    <tr>\n",
       "      <th>4</th>\n",
       "      <td>Pcp3</td>\n",
       "      <td>Cr20</td>\n",
       "      <td>Lodged pickup plan for cargo</td>\n",
       "      <td>2024-04-29 09:07:35</td>\n",
       "    </tr>\n",
       "  </tbody>\n",
       "</table>\n",
       "</div>"
      ],
      "text/plain": [
       "  Source_object_id Target_object_id                 O2O_qualifier  \\\n",
       "0             Pcp9              Cr8  Lodged pickup plan for cargo   \n",
       "1             Pcp6              Cr6  Lodged pickup plan for cargo   \n",
       "2             Pcp1             Cr16  Lodged pickup plan for cargo   \n",
       "3             Pcp8             Cr12  Lodged pickup plan for cargo   \n",
       "4             Pcp3             Cr20  Lodged pickup plan for cargo   \n",
       "\n",
       "             Timestamp  \n",
       "0  2024-04-29 08:12:32  \n",
       "1  2024-04-29 08:39:46  \n",
       "2  2024-04-29 08:46:20  \n",
       "3  2024-04-29 09:07:13  \n",
       "4  2024-04-29 09:07:35  "
      ]
     },
     "execution_count": 40,
     "metadata": {},
     "output_type": "execute_result"
    }
   ],
   "source": [
    "o2o_df.head()"
   ]
  },
  {
   "cell_type": "code",
   "execution_count": 41,
   "id": "e49bd302",
   "metadata": {},
   "outputs": [],
   "source": [
    "o2o_df.to_csv('OCEL_O2O.csv', index = False)"
   ]
  },
  {
   "cell_type": "markdown",
   "id": "2fce3558",
   "metadata": {},
   "source": [
    "### Object:Truck"
   ]
  },
  {
   "cell_type": "code",
   "execution_count": 42,
   "id": "550baf2b",
   "metadata": {},
   "outputs": [],
   "source": [
    "truck_df = pd.read_csv('object_Truck.csv')\n",
    "truck_df = truck_df['ocel_id;ocel_time;ocel_changed_field;Pickup Plan ID;Cargo ID;LPT;Axles;Scheduled Pickup Weight;Truck Status;Truck Weight'].str.split(';', expand=True)\n",
    "truck_df.columns = ['ocel_id','ocel_time','ocel_changed_field','Pickup Plan ID','Cargo ID','LPT','Axles','Scheduled Pickup Weight','Truck Status','Truck Weight']\n",
    "truck_df.rename(columns={'ocel_id': 'Object_id', 'ocel_time': 'Timestamp','ocel_changed_field': 'Ocel_changed_field','Pickup Plan ID': 'PickupPlanID', 'Cargo ID':'CargoID'}, inplace=True)"
   ]
  },
  {
   "cell_type": "code",
   "execution_count": 43,
   "id": "347bd19c",
   "metadata": {},
   "outputs": [
    {
     "data": {
      "text/html": [
       "<div>\n",
       "<style scoped>\n",
       "    .dataframe tbody tr th:only-of-type {\n",
       "        vertical-align: middle;\n",
       "    }\n",
       "\n",
       "    .dataframe tbody tr th {\n",
       "        vertical-align: top;\n",
       "    }\n",
       "\n",
       "    .dataframe thead th {\n",
       "        text-align: right;\n",
       "    }\n",
       "</style>\n",
       "<table border=\"1\" class=\"dataframe\">\n",
       "  <thead>\n",
       "    <tr style=\"text-align: right;\">\n",
       "      <th></th>\n",
       "      <th>Object_id</th>\n",
       "      <th>Timestamp</th>\n",
       "      <th>Ocel_changed_field</th>\n",
       "      <th>PickupPlanID</th>\n",
       "      <th>CargoID</th>\n",
       "      <th>LPT</th>\n",
       "      <th>Axles</th>\n",
       "      <th>Scheduled Pickup Weight</th>\n",
       "      <th>Truck Status</th>\n",
       "      <th>Truck Weight</th>\n",
       "    </tr>\n",
       "  </thead>\n",
       "  <tbody>\n",
       "    <tr>\n",
       "      <th>0</th>\n",
       "      <td>tr29</td>\n",
       "      <td>2024-03-04 00:00:00</td>\n",
       "      <td></td>\n",
       "      <td></td>\n",
       "      <td></td>\n",
       "      <td>823MWT</td>\n",
       "      <td>2</td>\n",
       "      <td>0.0</td>\n",
       "      <td>Available</td>\n",
       "      <td>0.0</td>\n",
       "    </tr>\n",
       "    <tr>\n",
       "      <th>1</th>\n",
       "      <td>tr33</td>\n",
       "      <td>2024-03-04 00:00:00</td>\n",
       "      <td></td>\n",
       "      <td></td>\n",
       "      <td></td>\n",
       "      <td>271FSE</td>\n",
       "      <td>2</td>\n",
       "      <td>0.0</td>\n",
       "      <td>Available</td>\n",
       "      <td>0.0</td>\n",
       "    </tr>\n",
       "    <tr>\n",
       "      <th>2</th>\n",
       "      <td>tr41</td>\n",
       "      <td>2024-03-04 00:00:00</td>\n",
       "      <td></td>\n",
       "      <td></td>\n",
       "      <td></td>\n",
       "      <td>704VGQ</td>\n",
       "      <td>6</td>\n",
       "      <td>0.0</td>\n",
       "      <td>Available</td>\n",
       "      <td>0.0</td>\n",
       "    </tr>\n",
       "    <tr>\n",
       "      <th>3</th>\n",
       "      <td>tr9</td>\n",
       "      <td>2024-03-04 00:00:00</td>\n",
       "      <td></td>\n",
       "      <td></td>\n",
       "      <td></td>\n",
       "      <td>747FJX</td>\n",
       "      <td>4</td>\n",
       "      <td>0.0</td>\n",
       "      <td>Available</td>\n",
       "      <td>0.0</td>\n",
       "    </tr>\n",
       "    <tr>\n",
       "      <th>4</th>\n",
       "      <td>tr8</td>\n",
       "      <td>2024-03-04 00:00:00</td>\n",
       "      <td></td>\n",
       "      <td></td>\n",
       "      <td></td>\n",
       "      <td>702XFC</td>\n",
       "      <td>2</td>\n",
       "      <td>0.0</td>\n",
       "      <td>Available</td>\n",
       "      <td>0.0</td>\n",
       "    </tr>\n",
       "  </tbody>\n",
       "</table>\n",
       "</div>"
      ],
      "text/plain": [
       "  Object_id            Timestamp Ocel_changed_field PickupPlanID CargoID  \\\n",
       "0      tr29  2024-03-04 00:00:00                                           \n",
       "1      tr33  2024-03-04 00:00:00                                           \n",
       "2      tr41  2024-03-04 00:00:00                                           \n",
       "3       tr9  2024-03-04 00:00:00                                           \n",
       "4       tr8  2024-03-04 00:00:00                                           \n",
       "\n",
       "      LPT Axles Scheduled Pickup Weight Truck Status Truck Weight  \n",
       "0  823MWT     2                     0.0    Available          0.0  \n",
       "1  271FSE     2                     0.0    Available          0.0  \n",
       "2  704VGQ     6                     0.0    Available          0.0  \n",
       "3  747FJX     4                     0.0    Available          0.0  \n",
       "4  702XFC     2                     0.0    Available          0.0  "
      ]
     },
     "execution_count": 43,
     "metadata": {},
     "output_type": "execute_result"
    }
   ],
   "source": [
    "truck_df.head()"
   ]
  },
  {
   "cell_type": "code",
   "execution_count": 44,
   "id": "1c609991",
   "metadata": {},
   "outputs": [],
   "source": [
    "truck_df.to_csv('OCEL_Truck.csv', index = False)"
   ]
  },
  {
   "cell_type": "markdown",
   "id": "71f5c319",
   "metadata": {},
   "source": [
    "### Object: PickupPlan"
   ]
  },
  {
   "cell_type": "code",
   "execution_count": 45,
   "id": "31f7bd02",
   "metadata": {},
   "outputs": [],
   "source": [
    "pickupplan_df = pd.read_csv('object_Pickupplan.csv')\n",
    "pickupplan_df = pickupplan_df['ocel_id;ocel_time;ocel_changed_field;Cargo ID;Num of trucks;Total pickup weight'].str.split(';', expand=True)\n",
    "pickupplan_df.columns = ['ocel_id','ocel_time','ocel_changed_field','Cargo ID','Num of trucks','Total pickup weight']\n",
    "pickupplan_df.rename(columns={'ocel_id': 'Object_id', 'ocel_time': 'Timestamp','ocel_changed_field': 'Ocel_changed_field','Cargo ID': 'CargoID'}, inplace=True)"
   ]
  },
  {
   "cell_type": "code",
   "execution_count": 46,
   "id": "ec0a0ef7",
   "metadata": {},
   "outputs": [
    {
     "data": {
      "text/html": [
       "<div>\n",
       "<style scoped>\n",
       "    .dataframe tbody tr th:only-of-type {\n",
       "        vertical-align: middle;\n",
       "    }\n",
       "\n",
       "    .dataframe tbody tr th {\n",
       "        vertical-align: top;\n",
       "    }\n",
       "\n",
       "    .dataframe thead th {\n",
       "        text-align: right;\n",
       "    }\n",
       "</style>\n",
       "<table border=\"1\" class=\"dataframe\">\n",
       "  <thead>\n",
       "    <tr style=\"text-align: right;\">\n",
       "      <th></th>\n",
       "      <th>Object_id</th>\n",
       "      <th>Timestamp</th>\n",
       "      <th>Ocel_changed_field</th>\n",
       "      <th>CargoID</th>\n",
       "      <th>Num of trucks</th>\n",
       "      <th>Total pickup weight</th>\n",
       "    </tr>\n",
       "  </thead>\n",
       "  <tbody>\n",
       "    <tr>\n",
       "      <th>0</th>\n",
       "      <td>Pcp9</td>\n",
       "      <td>2024-04-29 08:12:32</td>\n",
       "      <td></td>\n",
       "      <td>Cr8</td>\n",
       "      <td>44</td>\n",
       "      <td>413013.5</td>\n",
       "    </tr>\n",
       "    <tr>\n",
       "      <th>1</th>\n",
       "      <td>Pcp6</td>\n",
       "      <td>2024-04-29 08:39:46</td>\n",
       "      <td></td>\n",
       "      <td>Cr6</td>\n",
       "      <td>28</td>\n",
       "      <td>261674.3</td>\n",
       "    </tr>\n",
       "    <tr>\n",
       "      <th>2</th>\n",
       "      <td>Pcp1</td>\n",
       "      <td>2024-04-29 08:46:20</td>\n",
       "      <td></td>\n",
       "      <td>Cr16</td>\n",
       "      <td>40</td>\n",
       "      <td>372842.9</td>\n",
       "    </tr>\n",
       "    <tr>\n",
       "      <th>3</th>\n",
       "      <td>Pcp8</td>\n",
       "      <td>2024-04-29 09:07:13</td>\n",
       "      <td></td>\n",
       "      <td>Cr12</td>\n",
       "      <td>60</td>\n",
       "      <td>569072.7</td>\n",
       "    </tr>\n",
       "    <tr>\n",
       "      <th>4</th>\n",
       "      <td>Pcp3</td>\n",
       "      <td>2024-04-29 09:07:35</td>\n",
       "      <td></td>\n",
       "      <td>Cr20</td>\n",
       "      <td>68</td>\n",
       "      <td>639757.5</td>\n",
       "    </tr>\n",
       "    <tr>\n",
       "      <th>5</th>\n",
       "      <td>Pcp5</td>\n",
       "      <td>2024-04-29 09:10:45</td>\n",
       "      <td></td>\n",
       "      <td>Cr18</td>\n",
       "      <td>38</td>\n",
       "      <td>357741.9</td>\n",
       "    </tr>\n",
       "    <tr>\n",
       "      <th>6</th>\n",
       "      <td>Pcp4</td>\n",
       "      <td>2024-04-29 09:25:16</td>\n",
       "      <td></td>\n",
       "      <td>Cr13</td>\n",
       "      <td>48</td>\n",
       "      <td>453203.8</td>\n",
       "    </tr>\n",
       "    <tr>\n",
       "      <th>7</th>\n",
       "      <td>Pcp10</td>\n",
       "      <td>2024-04-29 09:29:57</td>\n",
       "      <td></td>\n",
       "      <td>Cr2</td>\n",
       "      <td>61</td>\n",
       "      <td>574906.1</td>\n",
       "    </tr>\n",
       "    <tr>\n",
       "      <th>8</th>\n",
       "      <td>Pcp2</td>\n",
       "      <td>2024-04-29 09:31:44</td>\n",
       "      <td></td>\n",
       "      <td>Cr1</td>\n",
       "      <td>64</td>\n",
       "      <td>600776.4</td>\n",
       "    </tr>\n",
       "    <tr>\n",
       "      <th>9</th>\n",
       "      <td>Pcp7</td>\n",
       "      <td>2024-04-29 10:32:00</td>\n",
       "      <td></td>\n",
       "      <td>Cr17</td>\n",
       "      <td>40</td>\n",
       "      <td>373283.7</td>\n",
       "    </tr>\n",
       "  </tbody>\n",
       "</table>\n",
       "</div>"
      ],
      "text/plain": [
       "  Object_id            Timestamp Ocel_changed_field CargoID Num of trucks  \\\n",
       "0      Pcp9  2024-04-29 08:12:32                        Cr8            44   \n",
       "1      Pcp6  2024-04-29 08:39:46                        Cr6            28   \n",
       "2      Pcp1  2024-04-29 08:46:20                       Cr16            40   \n",
       "3      Pcp8  2024-04-29 09:07:13                       Cr12            60   \n",
       "4      Pcp3  2024-04-29 09:07:35                       Cr20            68   \n",
       "5      Pcp5  2024-04-29 09:10:45                       Cr18            38   \n",
       "6      Pcp4  2024-04-29 09:25:16                       Cr13            48   \n",
       "7     Pcp10  2024-04-29 09:29:57                        Cr2            61   \n",
       "8      Pcp2  2024-04-29 09:31:44                        Cr1            64   \n",
       "9      Pcp7  2024-04-29 10:32:00                       Cr17            40   \n",
       "\n",
       "  Total pickup weight  \n",
       "0            413013.5  \n",
       "1            261674.3  \n",
       "2            372842.9  \n",
       "3            569072.7  \n",
       "4            639757.5  \n",
       "5            357741.9  \n",
       "6            453203.8  \n",
       "7            574906.1  \n",
       "8            600776.4  \n",
       "9            373283.7  "
      ]
     },
     "execution_count": 46,
     "metadata": {},
     "output_type": "execute_result"
    }
   ],
   "source": [
    "pickupplan_df"
   ]
  },
  {
   "cell_type": "code",
   "execution_count": 47,
   "id": "ca4e6421",
   "metadata": {},
   "outputs": [],
   "source": [
    "pickupplan_df.to_csv('OCEL_PickupPlan.csv', index = False)"
   ]
  },
  {
   "cell_type": "markdown",
   "id": "322334be",
   "metadata": {},
   "source": [
    "### Object: Cargo"
   ]
  },
  {
   "cell_type": "code",
   "execution_count": 48,
   "id": "11e3dd1d",
   "metadata": {},
   "outputs": [],
   "source": [
    "cargo_df = pd.read_csv('object_Cargo.csv')\n",
    "cargo_df = cargo_df['ocel_id;ocel_time;ocel_changed_field;Cargo Type;Cargo stock weight(scheduled);Silo ID'].str.split(';', expand=True)\n",
    "cargo_df.columns = ['ocel_id','ocel_time','ocel_changed_field','Cargo Type','Cargo stock weight(scheduled)','Silo ID']\n",
    "cargo_df.rename(columns={'ocel_id': 'Object_id', 'ocel_time': 'Timestamp','ocel_changed_field': 'Ocel_changed_field'}, inplace=True)"
   ]
  },
  {
   "cell_type": "code",
   "execution_count": 49,
   "id": "8eafe5d3",
   "metadata": {},
   "outputs": [],
   "source": [
    "cargo_df.to_csv('OCEL_Cargo.csv', index = False)"
   ]
  },
  {
   "cell_type": "code",
   "execution_count": null,
   "id": "9e2bfc19",
   "metadata": {},
   "outputs": [],
   "source": []
  },
  {
   "cell_type": "code",
   "execution_count": null,
   "id": "305901e4",
   "metadata": {},
   "outputs": [],
   "source": []
  }
 ],
 "metadata": {
  "kernelspec": {
   "display_name": "Python 3 (ipykernel)",
   "language": "python",
   "name": "python3"
  },
  "language_info": {
   "codemirror_mode": {
    "name": "ipython",
    "version": 3
   },
   "file_extension": ".py",
   "mimetype": "text/x-python",
   "name": "python",
   "nbconvert_exporter": "python",
   "pygments_lexer": "ipython3",
   "version": "3.9.7"
  },
  "vp": {
   "vp_config_version": "1.0.0",
   "vp_menu_width": 273,
   "vp_note_display": false,
   "vp_note_width": 0,
   "vp_position": {
    "width": 278
   },
   "vp_section_display": false,
   "vp_signature": "VisualPython"
  }
 },
 "nbformat": 4,
 "nbformat_minor": 5
}
